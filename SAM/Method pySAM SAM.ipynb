{
 "cells": [
  {
   "cell_type": "code",
   "execution_count": 1,
   "id": "b428daac",
   "metadata": {},
   "outputs": [],
   "source": [
    "import PySAM.Pvsamv1 as PV\n",
    "import PySAM.Grid as Grid\n",
    "import PySAM.Utilityrate5 as UtilityRate\n",
    "import PySAM.Cashloan as Cashloan\n",
    "import pathlib\n",
    "import json\n",
    "import os\n",
    "\n",
    "sam_input_folder = 'Row2Json'"
   ]
  },
  {
   "cell_type": "code",
   "execution_count": 2,
   "id": "1257afdb",
   "metadata": {},
   "outputs": [],
   "source": [
    "file_names = [\"pvsamv1\", \"grid\", \"utilityrate5\", \"cashloan\"]\n",
    "\n",
    "pv = PV.new()  # also tried PVWattsSingleOwner\n",
    "grid = Grid.from_existing(pv)\n",
    "so = Cashloan.from_existing(grid, 'FlatPlatePVCommercial')\n",
    "ur = UtilityRate.from_existing(pv)\n"
   ]
  },
  {
   "cell_type": "code",
   "execution_count": 3,
   "id": "6a8b3959",
   "metadata": {},
   "outputs": [
    {
     "name": "stdout",
     "output_type": "stream",
     "text": [
      "<Pvsamv1 object at 0x0000023EE2113300> subarray1_slope_tilt 0\n",
      "<Pvsamv1 object at 0x0000023EE2113300> subarray1_slope_azm 0\n",
      "<Pvsamv1 object at 0x0000023EE2113300> subarray2_slope_tilt 0\n",
      "<Pvsamv1 object at 0x0000023EE2113300> subarray2_slope_azm 0\n",
      "<Pvsamv1 object at 0x0000023EE2113300> subarray3_slope_tilt 0\n",
      "<Pvsamv1 object at 0x0000023EE2113300> subarray3_slope_azm 0\n",
      "<Pvsamv1 object at 0x0000023EE2113300> subarray4_slope_tilt 0\n",
      "<Pvsamv1 object at 0x0000023EE2113300> subarray4_slope_azm 0\n",
      "<Pvsamv1 object at 0x0000023EE2113300> ur_enable_billing_demand 0\n",
      "<Pvsamv1 object at 0x0000023EE2113300> ur_billing_demand_minimum 100\n",
      "<Pvsamv1 object at 0x0000023EE2113300> ur_billing_demand_lookback_period 11\n",
      "<Pvsamv1 object at 0x0000023EE2113300> ur_billing_demand_lookback_percentages [[60, 0], [60, 0], [60, 0], [60, 0], [60, 0], [95, 1], [95, 1], [95, 1], [95, 1], [60, 0], [60, 0], [60, 0]]\n",
      "<Pvsamv1 object at 0x0000023EE2113300> ur_dc_billing_demand_periods [[1, 1], [2, 1]]\n"
     ]
    }
   ],
   "source": [
    "for count, module in enumerate([pv, grid, ur, so]):\n",
    "    filetitle= 'Row2PrismBifi_' + file_names[count] + \".json\"\n",
    "    with open(os.path.join(sam_input_folder,filetitle), 'r') as file:\n",
    "        data = json.load(file)\n",
    "        for k, v in data.items():\n",
    "            if k == 'number_inputs':\n",
    "                continue\n",
    "            try:\n",
    "                module.value(k, v)\n",
    "            except AttributeError:\n",
    "                # there is an error is setting the value for ppa_escalation\n",
    "                print(module, k, v)"
   ]
  },
  {
   "cell_type": "markdown",
   "id": "a6cea702",
   "metadata": {},
   "source": [
    "##### Sanity checks"
   ]
  },
  {
   "cell_type": "code",
   "execution_count": 4,
   "id": "d64dc141",
   "metadata": {},
   "outputs": [
    {
     "data": {
      "text/plain": [
       "'C:/Users/cdeline/Documents/Python Scripts/RTC analysis/Bifacial_SAMfileAll2019_15.csv'"
      ]
     },
     "execution_count": 4,
     "metadata": {},
     "output_type": "execute_result"
    }
   ],
   "source": [
    "pv.SolarResource.solar_resource_file"
   ]
  },
  {
   "cell_type": "code",
   "execution_count": 5,
   "id": "e6498f99",
   "metadata": {},
   "outputs": [
    {
     "data": {
      "text/plain": [
       "1.0"
      ]
     },
     "execution_count": 5,
     "metadata": {},
     "output_type": "execute_result"
    }
   ],
   "source": [
    "pv.SolarResource.use_wf_albedo"
   ]
  },
  {
   "cell_type": "code",
   "execution_count": 6,
   "id": "0413866c",
   "metadata": {},
   "outputs": [
    {
     "data": {
      "text/plain": [
       "0.0"
      ]
     },
     "execution_count": 6,
     "metadata": {},
     "output_type": "execute_result"
    }
   ],
   "source": [
    "pv.SolarResource.irrad_mode"
   ]
  },
  {
   "cell_type": "code",
   "execution_count": 7,
   "id": "a48ed242",
   "metadata": {},
   "outputs": [
    {
     "data": {
      "text/plain": [
       "(0.20000000298023224,\n",
       " 0.20000000298023224,\n",
       " 0.20000000298023224,\n",
       " 0.20000000298023224,\n",
       " 0.20000000298023224,\n",
       " 0.20000000298023224,\n",
       " 0.20000000298023224,\n",
       " 0.20000000298023224,\n",
       " 0.20000000298023224,\n",
       " 0.20000000298023224,\n",
       " 0.20000000298023224,\n",
       " 0.20000000298023224)"
      ]
     },
     "execution_count": 7,
     "metadata": {},
     "output_type": "execute_result"
    }
   ],
   "source": [
    "pv.SolarResource.albedo"
   ]
  },
  {
   "cell_type": "code",
   "execution_count": 8,
   "id": "245ee364",
   "metadata": {},
   "outputs": [],
   "source": [
    "pv.SolarResource.solar_resource_file = r'C:\\Users\\sayala\\Documents\\GitHub\\Studies\\Approaches2BifacialPerformanceMonitoring\\InputFiles\\BEST_SAM_60_Comb_00a.csv'"
   ]
  },
  {
   "cell_type": "code",
   "execution_count": 9,
   "id": "3230998e",
   "metadata": {},
   "outputs": [],
   "source": [
    "grid.SystemOutput.gen = [0] * 8760  # p_out   # let's set all the values to 0\n",
    "pv.execute()\n",
    "grid.execute()\n",
    "ur.execute()\n",
    "so.execute()"
   ]
  },
  {
   "cell_type": "markdown",
   "id": "9e2bdc3d",
   "metadata": {},
   "source": [
    "# LOOP THROUGH COMBOS"
   ]
  },
  {
   "cell_type": "code",
   "execution_count": 10,
   "id": "a8cbe0ea",
   "metadata": {},
   "outputs": [],
   "source": [
    "import pandas as pd"
   ]
  },
  {
   "cell_type": "code",
   "execution_count": 11,
   "id": "76667209",
   "metadata": {},
   "outputs": [],
   "source": [
    "# 2-Bifi: Prism 457cBSTC\n",
    "# 4-Bifi: LONGi Green Energy Technology Co._Ltd. LR6-72PH-370M\n",
    "# 9-Bifi: Sunpreme Inc. SNPM-HxB-400\n"
   ]
  },
  {
   "cell_type": "code",
   "execution_count": 13,
   "id": "16d61d45",
   "metadata": {},
   "outputs": [],
   "source": [
    "# Row 2\n",
    "system_capacity =  72.04280090332031   # VERY important value, only obtained by GUI.\n",
    "\n",
    "# Row 4\n",
    "system_capacity = 73.982               # VERY important value, only obtained by GUI.\n",
    "\n",
    "# 9-Bifi: Sunpreme Inc. SNPM-HxB-400\n",
    "system_capacity = 80.089"
   ]
  },
  {
   "cell_type": "code",
   "execution_count": 14,
   "id": "7118ab79",
   "metadata": {},
   "outputs": [
    {
     "name": "stdout",
     "output_type": "stream",
     "text": [
      "<Pvsamv1 object at 0x0000023EEB5D2C00> subarray1_slope_tilt 0\n",
      "<Pvsamv1 object at 0x0000023EEB5D2C00> subarray1_slope_azm 0\n",
      "<Pvsamv1 object at 0x0000023EEB5D2C00> subarray2_slope_tilt 0\n",
      "<Pvsamv1 object at 0x0000023EEB5D2C00> subarray2_slope_azm 0\n",
      "<Pvsamv1 object at 0x0000023EEB5D2C00> subarray3_slope_tilt 0\n",
      "<Pvsamv1 object at 0x0000023EEB5D2C00> subarray3_slope_azm 0\n",
      "<Pvsamv1 object at 0x0000023EEB5D2C00> subarray4_slope_tilt 0\n",
      "<Pvsamv1 object at 0x0000023EEB5D2C00> subarray4_slope_azm 0\n",
      "<Pvsamv1 object at 0x0000023EEB5D2C00> ur_enable_billing_demand 0\n",
      "<Pvsamv1 object at 0x0000023EEB5D2C00> ur_billing_demand_minimum 100\n",
      "<Pvsamv1 object at 0x0000023EEB5D2C00> ur_billing_demand_lookback_period 11\n",
      "<Pvsamv1 object at 0x0000023EEB5D2C00> ur_billing_demand_lookback_percentages [[60, 0], [60, 0], [60, 0], [60, 0], [60, 0], [95, 1], [95, 1], [95, 1], [95, 1], [60, 0], [60, 0], [60, 0]]\n",
      "<Pvsamv1 object at 0x0000023EEB5D2C00> ur_dc_billing_demand_periods [[1, 1], [2, 1]]\n"
     ]
    }
   ],
   "source": [
    "dfAll = pd.DataFrame()\n",
    "\n",
    "for ii in range(0, 1): # loop here over all the weather files or sims.\n",
    "    sam_input_folder = 'Row2Json'\n",
    "    file_names = [\"pvsamv1\", \"grid\", \"utilityrate5\", \"cashloan\"]\n",
    "\n",
    "    pv = PV.new()  # also tried PVWattsSingleOwner\n",
    "    grid = Grid.from_existing(pv)\n",
    "    so = Cashloan.from_existing(grid, 'FlatPlatePVCommercial')\n",
    "    ur = UtilityRate.from_existing(pv)\n",
    "\n",
    "    for count, module in enumerate([pv, grid, ur, so]):\n",
    "        filetitle= 'Row2PrismBifi_' + file_names[count] + \".json\"\n",
    "        with open(os.path.join(sam_input_folder,filetitle), 'r') as file:\n",
    "            data = json.load(file)\n",
    "            for k, v in data.items():\n",
    "                if k == 'number_inputs':\n",
    "                    continue\n",
    "                try:\n",
    "                    module.value(k, v)\n",
    "                except AttributeError:\n",
    "                    # there is an error is setting the value for ppa_escalation\n",
    "                    print(module, k, v)\n",
    "\n",
    "    # Change Weather File here\n",
    "    pv.SolarResource.solar_resource_file = r'C:\\Users\\sayala\\Documents\\GitHub\\Studies\\Approaches2BifacialPerformanceMonitoring\\InputFiles\\BEST_SAM_60_Comb_00a.csv'\n",
    "                    \n",
    "    grid.SystemOutput.gen = [0] * 8760  # p_out   # let's set all the values to 0\n",
    "    pv.execute()\n",
    "    grid.execute()\n",
    "    ur.execute()\n",
    "    so.execute()\n",
    "\n",
    "    # SAVE RESULTS\n",
    "    # I usually save 1 all the data for 1 of the simulations, and all the others save just the main ones we need like DCP, temp. and front/rear irradiance.\n",
    "\n",
    "    results = pv.Outputs.export()\n",
    "    power = list(results['subarray1_dc_gross'])\n",
    "    celltemp = list(results['subarray1_celltemp'])\n",
    "\n",
    "    alldata=True\n",
    "\n",
    "    # Saving select columns of results as needed\n",
    "    if alldata:\n",
    "        ii=0\n",
    "        dni = list(results['dn'])\n",
    "        dhi = list(results['df'])\n",
    "        alb = list(results['alb'])\n",
    "        poa= list(results['subarray1_poa_eff'])\n",
    "        res = pd.DataFrame(list(zip(power, celltemp, dni, dhi, alb,  poa)),\n",
    "                   columns =['sim'+str(ii)+'_DCP', 'sim'+str(ii)+'_Celltemp', 'DNI','DHI','alb','POA'])\n",
    "    else: \n",
    "        rear = list(results['subarray1_poa_rear'])\n",
    "        front = list(results['subarray1_poa_front'])\n",
    "        res = pd.DataFrame(list(zip(power, celltemp, rear, front)),\n",
    "                   columns =['sim'+str(ii)+'_DCP', 'sim'+str(ii)+'_Celltemp', 'sim'+str(ii)+'Grear','sim'+str(ii)+'Gfront'])\n",
    "\n",
    "    res['sim'+str(ii)+'_DCP']= res['sim'+str(ii)+'_DCP']/system_capacity # normalizing by the system_capacity\n",
    "    res = res[0:8760]\n",
    "    #res.index = timestamps\n",
    "\n",
    "    dfAll = pd.concat([dfAll, res], axis=1)\n",
    "\n"
   ]
  },
  {
   "cell_type": "code",
   "execution_count": 15,
   "id": "bb5d25a6",
   "metadata": {},
   "outputs": [
    {
     "data": {
      "text/html": [
       "<div>\n",
       "<style scoped>\n",
       "    .dataframe tbody tr th:only-of-type {\n",
       "        vertical-align: middle;\n",
       "    }\n",
       "\n",
       "    .dataframe tbody tr th {\n",
       "        vertical-align: top;\n",
       "    }\n",
       "\n",
       "    .dataframe thead th {\n",
       "        text-align: right;\n",
       "    }\n",
       "</style>\n",
       "<table border=\"1\" class=\"dataframe\">\n",
       "  <thead>\n",
       "    <tr style=\"text-align: right;\">\n",
       "      <th></th>\n",
       "      <th>sim0_DCP</th>\n",
       "      <th>sim0_Celltemp</th>\n",
       "      <th>DNI</th>\n",
       "      <th>DHI</th>\n",
       "      <th>alb</th>\n",
       "      <th>POA</th>\n",
       "    </tr>\n",
       "  </thead>\n",
       "  <tbody>\n",
       "    <tr>\n",
       "      <th>0</th>\n",
       "      <td>0.0</td>\n",
       "      <td>0.0</td>\n",
       "      <td>0.315377</td>\n",
       "      <td>0.0</td>\n",
       "      <td>0.99</td>\n",
       "      <td>0.0</td>\n",
       "    </tr>\n",
       "    <tr>\n",
       "      <th>1</th>\n",
       "      <td>0.0</td>\n",
       "      <td>0.0</td>\n",
       "      <td>0.439348</td>\n",
       "      <td>0.0</td>\n",
       "      <td>0.99</td>\n",
       "      <td>0.0</td>\n",
       "    </tr>\n",
       "    <tr>\n",
       "      <th>2</th>\n",
       "      <td>0.0</td>\n",
       "      <td>0.0</td>\n",
       "      <td>0.276817</td>\n",
       "      <td>0.0</td>\n",
       "      <td>0.99</td>\n",
       "      <td>0.0</td>\n",
       "    </tr>\n",
       "    <tr>\n",
       "      <th>3</th>\n",
       "      <td>0.0</td>\n",
       "      <td>0.0</td>\n",
       "      <td>0.418236</td>\n",
       "      <td>0.0</td>\n",
       "      <td>0.99</td>\n",
       "      <td>0.0</td>\n",
       "    </tr>\n",
       "    <tr>\n",
       "      <th>4</th>\n",
       "      <td>0.0</td>\n",
       "      <td>0.0</td>\n",
       "      <td>0.683536</td>\n",
       "      <td>0.0</td>\n",
       "      <td>0.99</td>\n",
       "      <td>0.0</td>\n",
       "    </tr>\n",
       "    <tr>\n",
       "      <th>...</th>\n",
       "      <td>...</td>\n",
       "      <td>...</td>\n",
       "      <td>...</td>\n",
       "      <td>...</td>\n",
       "      <td>...</td>\n",
       "      <td>...</td>\n",
       "    </tr>\n",
       "    <tr>\n",
       "      <th>8755</th>\n",
       "      <td>0.0</td>\n",
       "      <td>0.0</td>\n",
       "      <td>0.402267</td>\n",
       "      <td>0.0</td>\n",
       "      <td>0.99</td>\n",
       "      <td>0.0</td>\n",
       "    </tr>\n",
       "    <tr>\n",
       "      <th>8756</th>\n",
       "      <td>0.0</td>\n",
       "      <td>0.0</td>\n",
       "      <td>0.277688</td>\n",
       "      <td>0.0</td>\n",
       "      <td>0.99</td>\n",
       "      <td>0.0</td>\n",
       "    </tr>\n",
       "    <tr>\n",
       "      <th>8757</th>\n",
       "      <td>0.0</td>\n",
       "      <td>0.0</td>\n",
       "      <td>0.247329</td>\n",
       "      <td>0.0</td>\n",
       "      <td>0.99</td>\n",
       "      <td>0.0</td>\n",
       "    </tr>\n",
       "    <tr>\n",
       "      <th>8758</th>\n",
       "      <td>0.0</td>\n",
       "      <td>0.0</td>\n",
       "      <td>0.291647</td>\n",
       "      <td>0.0</td>\n",
       "      <td>0.99</td>\n",
       "      <td>0.0</td>\n",
       "    </tr>\n",
       "    <tr>\n",
       "      <th>8759</th>\n",
       "      <td>0.0</td>\n",
       "      <td>0.0</td>\n",
       "      <td>0.464298</td>\n",
       "      <td>0.0</td>\n",
       "      <td>0.99</td>\n",
       "      <td>0.0</td>\n",
       "    </tr>\n",
       "  </tbody>\n",
       "</table>\n",
       "<p>8760 rows × 6 columns</p>\n",
       "</div>"
      ],
      "text/plain": [
       "      sim0_DCP  sim0_Celltemp       DNI  DHI   alb  POA\n",
       "0          0.0            0.0  0.315377  0.0  0.99  0.0\n",
       "1          0.0            0.0  0.439348  0.0  0.99  0.0\n",
       "2          0.0            0.0  0.276817  0.0  0.99  0.0\n",
       "3          0.0            0.0  0.418236  0.0  0.99  0.0\n",
       "4          0.0            0.0  0.683536  0.0  0.99  0.0\n",
       "...        ...            ...       ...  ...   ...  ...\n",
       "8755       0.0            0.0  0.402267  0.0  0.99  0.0\n",
       "8756       0.0            0.0  0.277688  0.0  0.99  0.0\n",
       "8757       0.0            0.0  0.247329  0.0  0.99  0.0\n",
       "8758       0.0            0.0  0.291647  0.0  0.99  0.0\n",
       "8759       0.0            0.0  0.464298  0.0  0.99  0.0\n",
       "\n",
       "[8760 rows x 6 columns]"
      ]
     },
     "execution_count": 15,
     "metadata": {},
     "output_type": "execute_result"
    }
   ],
   "source": [
    "dfAll"
   ]
  },
  {
   "cell_type": "code",
   "execution_count": null,
   "id": "6f9346a4",
   "metadata": {},
   "outputs": [],
   "source": []
  }
 ],
 "metadata": {
  "kernelspec": {
   "display_name": "Python 3 (ipykernel)",
   "language": "python",
   "name": "python3"
  },
  "language_info": {
   "codemirror_mode": {
    "name": "ipython",
    "version": 3
   },
   "file_extension": ".py",
   "mimetype": "text/x-python",
   "name": "python",
   "nbconvert_exporter": "python",
   "pygments_lexer": "ipython3",
   "version": "3.8.8"
  }
 },
 "nbformat": 4,
 "nbformat_minor": 5
}
