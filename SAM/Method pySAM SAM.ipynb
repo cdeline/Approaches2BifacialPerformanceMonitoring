{
 "cells": [
  {
   "cell_type": "code",
   "execution_count": 1,
   "id": "b428daac",
   "metadata": {},
   "outputs": [],
   "source": [
    "# Written for nrel-pysam 3.0.2\n",
    "import PySAM.Pvsamv1 as PV\n",
    "import PySAM.Grid as Grid\n",
    "import PySAM.Utilityrate5 as UtilityRate\n",
    "import PySAM.Cashloan as Cashloan\n",
    "import pathlib\n",
    "import json\n",
    "import os\n",
    "\n",
    "sam_input_folder = 'Row2Json'\n"
   ]
  },
  {
   "cell_type": "code",
   "execution_count": 2,
   "id": "6a8b3959",
   "metadata": {},
   "outputs": [],
   "source": [
    "file_names = [\"pvsamv1\", \"grid\", \"utilityrate5\", \"cashloan\"]\n",
    "\n",
    "pv = PV.new()  # also tried PVWattsSingleOwner\n",
    "grid = Grid.from_existing(pv)\n",
    "so = Cashloan.from_existing(grid, 'FlatPlatePVCommercial')\n",
    "ur = UtilityRate.from_existing(pv)\n"
   ]
  },
  {
   "cell_type": "code",
   "execution_count": 3,
   "id": "f36cf60f",
   "metadata": {},
   "outputs": [],
   "source": [
    "for count, module in enumerate([pv, grid, ur, so]):\n",
    "    filetitle= 'Row2PrismBifi_' + file_names[count] + \".json\"\n",
    "    with open(os.path.join(sam_input_folder,filetitle), 'r') as file:\n",
    "        data = json.load(file)\n",
    "        for k, v in data.items():\n",
    "            if k == 'number_inputs':\n",
    "                continue\n",
    "            try:\n",
    "                module.value(k, v)\n",
    "            except :\n",
    "                # there is an error is setting the value for ppa_escalation\n",
    "                print(module, k, v)"
   ]
  },
  {
   "cell_type": "markdown",
   "id": "a6cea702",
   "metadata": {},
   "source": [
    "##### Sanity checks"
   ]
  },
  {
   "cell_type": "code",
   "execution_count": 4,
   "id": "d64dc141",
   "metadata": {},
   "outputs": [
    {
     "data": {
      "text/plain": [
       "'C:/Users/cdeline/Documents/Python Scripts/RTC analysis/Bifacial_SAMfileAll2019_15.csv'"
      ]
     },
     "execution_count": 4,
     "metadata": {},
     "output_type": "execute_result"
    }
   ],
   "source": [
    "pv.SolarResource.solar_resource_file"
   ]
  },
  {
   "cell_type": "code",
   "execution_count": 5,
   "id": "e6498f99",
   "metadata": {},
   "outputs": [
    {
     "data": {
      "text/plain": [
       "1.0"
      ]
     },
     "execution_count": 5,
     "metadata": {},
     "output_type": "execute_result"
    }
   ],
   "source": [
    "pv.SolarResource.use_wf_albedo"
   ]
  },
  {
   "cell_type": "code",
   "execution_count": 6,
   "id": "0413866c",
   "metadata": {},
   "outputs": [
    {
     "data": {
      "text/plain": [
       "0.0"
      ]
     },
     "execution_count": 6,
     "metadata": {},
     "output_type": "execute_result"
    }
   ],
   "source": [
    "pv.SolarResource.irrad_mode"
   ]
  },
  {
   "cell_type": "code",
   "execution_count": 7,
   "id": "a48ed242",
   "metadata": {},
   "outputs": [
    {
     "data": {
      "text/plain": [
       "(0.20000000298023224,\n",
       " 0.20000000298023224,\n",
       " 0.20000000298023224,\n",
       " 0.20000000298023224,\n",
       " 0.20000000298023224,\n",
       " 0.20000000298023224,\n",
       " 0.20000000298023224,\n",
       " 0.20000000298023224,\n",
       " 0.20000000298023224,\n",
       " 0.20000000298023224,\n",
       " 0.20000000298023224,\n",
       " 0.20000000298023224)"
      ]
     },
     "execution_count": 7,
     "metadata": {},
     "output_type": "execute_result"
    }
   ],
   "source": [
    "pv.SolarResource.albedo"
   ]
  },
  {
   "cell_type": "code",
   "execution_count": 8,
   "id": "245ee364",
   "metadata": {},
   "outputs": [],
   "source": [
    "pv.SolarResource.solar_resource_file = r'..\\InputFiles\\BEST_SAM_60_Comb_00a.csv'"
   ]
  },
  {
   "cell_type": "code",
   "execution_count": 9,
   "id": "3230998e",
   "metadata": {},
   "outputs": [],
   "source": [
    "grid.SystemOutput.gen = [0] * 8760  # p_out   # let's set all the values to 0\n",
    "pv.execute()\n",
    "grid.execute()\n",
    "ur.execute()\n",
    "so.execute()"
   ]
  },
  {
   "cell_type": "markdown",
   "id": "9e2bdc3d",
   "metadata": {},
   "source": [
    "# LOOP THROUGH COMBOS"
   ]
  },
  {
   "cell_type": "code",
   "execution_count": 10,
   "id": "a8cbe0ea",
   "metadata": {},
   "outputs": [],
   "source": [
    "import pandas as pd"
   ]
  },
  {
   "cell_type": "code",
   "execution_count": 11,
   "id": "76667209",
   "metadata": {},
   "outputs": [],
   "source": [
    "# 2-Bifi: Prism 457cBSTC\n",
    "# 4-Bifi: LONGi Green Energy Technology Co._Ltd. LR6-72PH-370M\n",
    "# 9-Bifi: Sunpreme Inc. SNPM-HxB-400\n"
   ]
  },
  {
   "cell_type": "code",
   "execution_count": 12,
   "id": "16d61d45",
   "metadata": {},
   "outputs": [],
   "source": [
    "# Row 2\n",
    "system_capacity =  72.04280090332031   # VERY important value, only obtained by GUI.\n",
    "\n",
    "# Row 4\n",
    "system_capacity = 73.982               # VERY important value, only obtained by GUI.\n",
    "\n",
    "# 9-Bifi: Sunpreme Inc. SNPM-HxB-400\n",
    "system_capacity = 80.089"
   ]
  },
  {
   "cell_type": "code",
   "execution_count": 13,
   "id": "7118ab79",
   "metadata": {},
   "outputs": [],
   "source": [
    "dfAll = pd.DataFrame()\n",
    "\n",
    "for ii in range(0, 1): # loop here over all the weather files or sims.\n",
    "    sam_input_folder = 'Row2Json'\n",
    "    file_names = [\"pvsamv1\", \"grid\", \"utilityrate5\", \"cashloan\"]\n",
    "\n",
    "    pv = PV.new()  # also tried PVWattsSingleOwner\n",
    "    grid = Grid.from_existing(pv)\n",
    "    so = Cashloan.from_existing(grid, 'FlatPlatePVCommercial')\n",
    "    ur = UtilityRate.from_existing(pv)\n",
    "\n",
    "    for count, module in enumerate([pv, grid, ur, so]):\n",
    "        filetitle= 'Row2PrismBifi_' + file_names[count] + \".json\"\n",
    "        with open(os.path.join(sam_input_folder,filetitle), 'r') as file:\n",
    "            data = json.load(file)\n",
    "            for k, v in data.items():\n",
    "                if k == 'number_inputs':\n",
    "                    continue\n",
    "                try:\n",
    "                    module.value(k, v)\n",
    "                except AttributeError:\n",
    "                    # there is an error is setting the value for ppa_escalation\n",
    "                    print(module, k, v)\n",
    "\n",
    "    # Change Weather File here\n",
    "    pv.SolarResource.solar_resource_file = r'..\\InputFiles\\BEST_SAM_60_Comb_00a.csv'\n",
    "                    \n",
    "    grid.SystemOutput.gen = [0] * 8760  # p_out   # let's set all the values to 0\n",
    "    pv.execute()\n",
    "    grid.execute()\n",
    "    ur.execute()\n",
    "    so.execute()\n",
    "\n",
    "    # SAVE RESULTS\n",
    "    # I usually save 1 all the data for 1 of the simulations, and all the others save just the main ones we need like DCP, temp. and front/rear irradiance.\n",
    "\n",
    "    results = pv.Outputs.export()\n",
    "    power = list(results['subarray1_dc_gross'])\n",
    "    celltemp = list(results['subarray1_celltemp'])\n",
    "\n",
    "    alldata=True\n",
    "\n",
    "    # Saving select columns of results as needed\n",
    "    if alldata:\n",
    "        ii=0\n",
    "        dni = list(results['dn'])\n",
    "        dhi = list(results['df'])\n",
    "        alb = list(results['alb'])\n",
    "        poa= list(results['subarray1_poa_eff'])\n",
    "        res = pd.DataFrame(list(zip(power, celltemp, dni, dhi, alb,  poa)),\n",
    "                   columns =['sim'+str(ii)+'_DCP', 'sim'+str(ii)+'_Celltemp', 'DNI','DHI','alb','POA'])\n",
    "    else: \n",
    "        rear = list(results['subarray1_poa_rear'])\n",
    "        front = list(results['subarray1_poa_front'])\n",
    "        res = pd.DataFrame(list(zip(power, celltemp, rear, front)),\n",
    "                   columns =['sim'+str(ii)+'_DCP', 'sim'+str(ii)+'_Celltemp', 'sim'+str(ii)+'Grear','sim'+str(ii)+'Gfront'])\n",
    "\n",
    "    res['sim'+str(ii)+'_DCP']= res['sim'+str(ii)+'_DCP']/system_capacity # normalizing by the system_capacity\n",
    "    res = res[0:8760]\n",
    "    #res.index = timestamps\n",
    "\n",
    "    dfAll = pd.concat([dfAll, res], axis=1)\n",
    "\n"
   ]
  },
  {
   "cell_type": "code",
   "execution_count": 14,
   "id": "bb5d25a6",
   "metadata": {},
   "outputs": [
    {
     "data": {
      "text/html": [
       "<div>\n",
       "<style scoped>\n",
       "    .dataframe tbody tr th:only-of-type {\n",
       "        vertical-align: middle;\n",
       "    }\n",
       "\n",
       "    .dataframe tbody tr th {\n",
       "        vertical-align: top;\n",
       "    }\n",
       "\n",
       "    .dataframe thead th {\n",
       "        text-align: right;\n",
       "    }\n",
       "</style>\n",
       "<table border=\"1\" class=\"dataframe\">\n",
       "  <thead>\n",
       "    <tr style=\"text-align: right;\">\n",
       "      <th></th>\n",
       "      <th>sim0_DCP</th>\n",
       "      <th>sim0_Celltemp</th>\n",
       "      <th>DNI</th>\n",
       "      <th>DHI</th>\n",
       "      <th>alb</th>\n",
       "      <th>POA</th>\n",
       "    </tr>\n",
       "  </thead>\n",
       "  <tbody>\n",
       "    <tr>\n",
       "      <th>6</th>\n",
       "      <td>0.000000</td>\n",
       "      <td>0.000000</td>\n",
       "      <td>0.404365</td>\n",
       "      <td>0.001799</td>\n",
       "      <td>0.990000</td>\n",
       "      <td>0.000000</td>\n",
       "    </tr>\n",
       "    <tr>\n",
       "      <th>7</th>\n",
       "      <td>1.019370</td>\n",
       "      <td>-14.358429</td>\n",
       "      <td>0.473111</td>\n",
       "      <td>11.493652</td>\n",
       "      <td>0.990000</td>\n",
       "      <td>15.005641</td>\n",
       "    </tr>\n",
       "    <tr>\n",
       "      <th>8</th>\n",
       "      <td>7.171574</td>\n",
       "      <td>-11.558310</td>\n",
       "      <td>0.613570</td>\n",
       "      <td>70.495995</td>\n",
       "      <td>0.941576</td>\n",
       "      <td>92.201371</td>\n",
       "    </tr>\n",
       "    <tr>\n",
       "      <th>9</th>\n",
       "      <td>8.865279</td>\n",
       "      <td>-10.795777</td>\n",
       "      <td>1.044986</td>\n",
       "      <td>101.250656</td>\n",
       "      <td>0.944699</td>\n",
       "      <td>113.336518</td>\n",
       "    </tr>\n",
       "    <tr>\n",
       "      <th>10</th>\n",
       "      <td>16.720301</td>\n",
       "      <td>-7.431888</td>\n",
       "      <td>1.171745</td>\n",
       "      <td>188.318970</td>\n",
       "      <td>0.929309</td>\n",
       "      <td>215.046014</td>\n",
       "    </tr>\n",
       "    <tr>\n",
       "      <th>11</th>\n",
       "      <td>25.762836</td>\n",
       "      <td>-3.049886</td>\n",
       "      <td>28.033949</td>\n",
       "      <td>256.362061</td>\n",
       "      <td>0.907453</td>\n",
       "      <td>332.653447</td>\n",
       "    </tr>\n",
       "    <tr>\n",
       "      <th>12</th>\n",
       "      <td>33.645650</td>\n",
       "      <td>0.603812</td>\n",
       "      <td>80.301537</td>\n",
       "      <td>311.692810</td>\n",
       "      <td>0.899169</td>\n",
       "      <td>434.720623</td>\n",
       "    </tr>\n",
       "    <tr>\n",
       "      <th>13</th>\n",
       "      <td>39.509274</td>\n",
       "      <td>7.099989</td>\n",
       "      <td>242.766037</td>\n",
       "      <td>295.247559</td>\n",
       "      <td>0.889730</td>\n",
       "      <td>510.176484</td>\n",
       "    </tr>\n",
       "    <tr>\n",
       "      <th>14</th>\n",
       "      <td>31.711257</td>\n",
       "      <td>3.615889</td>\n",
       "      <td>185.585587</td>\n",
       "      <td>215.476837</td>\n",
       "      <td>0.747716</td>\n",
       "      <td>405.571904</td>\n",
       "    </tr>\n",
       "    <tr>\n",
       "      <th>15</th>\n",
       "      <td>28.938494</td>\n",
       "      <td>4.446259</td>\n",
       "      <td>406.924988</td>\n",
       "      <td>98.524948</td>\n",
       "      <td>0.473237</td>\n",
       "      <td>370.437548</td>\n",
       "    </tr>\n",
       "    <tr>\n",
       "      <th>16</th>\n",
       "      <td>2.830165</td>\n",
       "      <td>-11.108245</td>\n",
       "      <td>150.958633</td>\n",
       "      <td>17.766726</td>\n",
       "      <td>0.481119</td>\n",
       "      <td>41.372588</td>\n",
       "    </tr>\n",
       "    <tr>\n",
       "      <th>17</th>\n",
       "      <td>0.000000</td>\n",
       "      <td>0.000000</td>\n",
       "      <td>0.617668</td>\n",
       "      <td>0.085407</td>\n",
       "      <td>0.990000</td>\n",
       "      <td>0.000000</td>\n",
       "    </tr>\n",
       "  </tbody>\n",
       "</table>\n",
       "</div>"
      ],
      "text/plain": [
       "     sim0_DCP  sim0_Celltemp         DNI         DHI       alb         POA\n",
       "6    0.000000       0.000000    0.404365    0.001799  0.990000    0.000000\n",
       "7    1.019370     -14.358429    0.473111   11.493652  0.990000   15.005641\n",
       "8    7.171574     -11.558310    0.613570   70.495995  0.941576   92.201371\n",
       "9    8.865279     -10.795777    1.044986  101.250656  0.944699  113.336518\n",
       "10  16.720301      -7.431888    1.171745  188.318970  0.929309  215.046014\n",
       "11  25.762836      -3.049886   28.033949  256.362061  0.907453  332.653447\n",
       "12  33.645650       0.603812   80.301537  311.692810  0.899169  434.720623\n",
       "13  39.509274       7.099989  242.766037  295.247559  0.889730  510.176484\n",
       "14  31.711257       3.615889  185.585587  215.476837  0.747716  405.571904\n",
       "15  28.938494       4.446259  406.924988   98.524948  0.473237  370.437548\n",
       "16   2.830165     -11.108245  150.958633   17.766726  0.481119   41.372588\n",
       "17   0.000000       0.000000    0.617668    0.085407  0.990000    0.000000"
      ]
     },
     "execution_count": 14,
     "metadata": {},
     "output_type": "execute_result"
    }
   ],
   "source": [
    "dfAll"
   ]
  },
  {
   "cell_type": "markdown",
   "id": "f4a8225c",
   "metadata": {},
   "source": [
    "# Variables to explore SAM models\n",
    "\n",
    "* sky_model = 0 for Isotropic, 1 for HDKR, 2 for Perez\n",
    "* irrad_mod = 0 DNI + GHI, 1 DNI + GHI, 2 GHI + DHI, 3 POA Ref cell, 4 POA pyr\n",
    "\n",
    "use_wf_albedo\n",
    "use_spatial_albedos"
   ]
  }
 ],
 "metadata": {
  "kernelspec": {
   "display_name": "Python 3 (ipykernel)",
   "language": "python",
   "name": "python3"
  },
  "language_info": {
   "codemirror_mode": {
    "name": "ipython",
    "version": 3
   },
   "file_extension": ".py",
   "mimetype": "text/x-python",
   "name": "python",
   "nbconvert_exporter": "python",
   "pygments_lexer": "ipython3",
   "version": "3.8.8"
  }
 },
 "nbformat": 4,
 "nbformat_minor": 5
}
