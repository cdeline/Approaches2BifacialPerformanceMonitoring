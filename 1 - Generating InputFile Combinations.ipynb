{
 "cells": [
  {
   "cell_type": "markdown",
   "id": "28cb8178",
   "metadata": {},
   "source": [
    "# 1 - Generating Inputfile Combinations"
   ]
  },
  {
   "cell_type": "code",
   "execution_count": 1,
   "id": "28a9256e",
   "metadata": {},
   "outputs": [],
   "source": [
    "fielddataFolder = 'FieldData'\n",
    "InputFilesFolder = 'InputFiles'\n",
    "debugflag = False"
   ]
  },
  {
   "cell_type": "code",
   "execution_count": 2,
   "id": "cb0af38a",
   "metadata": {},
   "outputs": [],
   "source": [
    "import pandas as pd\n",
    "import matplotlib.pyplot as plt\n",
    "import pvlib\n",
    "import numpy as np\n",
    "import os"
   ]
  },
  {
   "cell_type": "code",
   "execution_count": 3,
   "id": "53aea2f5",
   "metadata": {},
   "outputs": [],
   "source": [
    "plt.rcParams.update({'font.size': 22})\n",
    "plt.rcParams['figure.figsize'] = (12, 4)"
   ]
  },
  {
   "cell_type": "markdown",
   "id": "bd08006d",
   "metadata": {},
   "source": [
    "## Read Pickle with all rows data"
   ]
  },
  {
   "cell_type": "markdown",
   "id": "07f2f937",
   "metadata": {},
   "source": [
    "This pickle is all the rows together, with data starting on 03/08 and ending on 07/29"
   ]
  },
  {
   "cell_type": "code",
   "execution_count": 4,
   "id": "3ed0c07f",
   "metadata": {
    "scrolled": true
   },
   "outputs": [
    {
     "name": "stdout",
     "output_type": "stream",
     "text": [
      "Clean pickle loaded for Plotting Production Data, # datapoints:  1665830\n",
      "Spanning from 2019-07-01 00:02:00-07:00  to  2022-09-07 23:20:00-07:00\n"
     ]
    }
   ],
   "source": [
    "data = pd.read_pickle(os.path.join(fielddataFolder,'DATA_Release.pickle'))\n",
    "print(\"Clean pickle loaded for Plotting Production Data, # datapoints: \", data.__len__())\n",
    "print(\"Spanning from\", data.index[0], \" to \", data.index[-1])"
   ]
  },
  {
   "cell_type": "code",
   "execution_count": 5,
   "id": "09dd269a",
   "metadata": {},
   "outputs": [
    {
     "data": {
      "text/plain": [
       "Index(['row2kWh', 'row2dcp', 'row2Gfront', 'Hydra_current_1',\n",
       "       'Hydra_current_10', 'Hydra_current_11', 'Hydra_current_12',\n",
       "       'Hydra_current_2', 'Hydra_current_3', 'Hydra_current_4',\n",
       "       'Hydra_current_5', 'Hydra_current_6', 'Hydra_current_7',\n",
       "       'Hydra_current_8', 'Hydra_current_9', 'row2temperature_ambient',\n",
       "       'row2tmod_1', 'row2tmod_2', 'row2wind_direction', 'row2wind_speed',\n",
       "       'row3Gfront', 'row3Grear_IMT_West', 'row3Grear_IMT_CenterWest',\n",
       "       'row3Grear_IMT_CenterEast', 'row3Grear_IMT_East', 'row3Grear_CM11',\n",
       "       'row3Grear_Licor', 'row3Gfront_CM11', 'row3Gfront_Licor', 'row4kWh',\n",
       "       'row4dcp', 'row4tmod_1', 'row4tmod_2', 'row5Grear', 'row5Gfront',\n",
       "       'row5temperature_ambient', 'row6tracker_angle', 'row7Grear',\n",
       "       'row7Gfront', 'row7tracker_angle', 'row7wind_direction',\n",
       "       'row7wind_speed', 'row7Grear_IMT_CenterEast', 'row7Grear_IMT_East',\n",
       "       'row7RotatingAlbedometer_CM11_Down', 'row7RotatingAlbedometer_CM11_Up',\n",
       "       'row8dcp', 'row8tmod_1', 'row8tmod_2', 'row8tracker_angle', 'row9kWh',\n",
       "       'row9dcp', 'row9Grear', 'row9Gfront', 'row9tmod_1', 'row9tmod_2',\n",
       "       'row9tmod_3', 'row9tmod_4', 'Grear', 'Gfront',\n",
       "       'temp_ambient_FieldAverage', 'sunkitty_GRI_CM22', 'sunkitty_GRI_IMT',\n",
       "       'sunkitty_GRI_AP', 'sunkitty_GHI_CM22', 'sunkitty_GHI_IMT',\n",
       "       'sunkitty_GHI_AP', 'sunkitty_albedo_CM22', 'sunkitty_albedo_IMT',\n",
       "       'sunkitty_albedo_AP', 'albedo', 'row2Pmp', 'row4Pmp', 'row9Pmp', 'Yf2',\n",
       "       'Yf4', 'Yf8', 'Yf9', 'PR2', 'PR4', 'PR8', 'PR9', 'SRRL_albedo',\n",
       "       'SRRL_windspeed', 'SRRL_DHI', 'SRRL_DNI', 'SRRL_GHI',\n",
       "       'SRRL_temperature_ambient'],\n",
       "      dtype='object')"
      ]
     },
     "execution_count": 5,
     "metadata": {},
     "output_type": "execute_result"
    }
   ],
   "source": [
    "data.keys()"
   ]
  },
  {
   "cell_type": "code",
   "execution_count": 6,
   "id": "f46b581b",
   "metadata": {},
   "outputs": [],
   "source": [
    "def saveSAM_WeatherFile(timestamps, windspeed, temp_amb, Albedo, POA=None, DHI=None, DNI=None, GHI=None, \n",
    "                        savefile='Bifacial_SAM.csv', includeminute = True):\n",
    "    \"\"\"\n",
    "    Saves a dataframe with weather data from SRRL on SAM-friendly format.\n",
    "\n",
    "    INPUT:\n",
    "    data\n",
    "    savefile\n",
    "    includeminute  -- especially for hourly data, if SAM input does not have Minutes, it assuems it's TMY3 format and \n",
    "                      calculates the sun position 30 minutes prior to the hour (i.e. 12 timestamp means sun position at 11:30)\n",
    "                      If minutes are included, it will calculate the sun position at the time of the timestamp (12:00 at 12:00)\n",
    "                      Include minutes if resolution of data is not hourly duh. (but it will calculate at the timestamp)\n",
    "                      \n",
    "    Headers expected by SAM:\n",
    "    ************************* \n",
    "    # Source\tLocation ID\tCity\tState\tCountry\tLatitude\tLongitude\tTime Zone\tElevation\t\t\n",
    "\n",
    "    Column names\n",
    "    *************\n",
    "    # Year\tMonth\tDay\tHour\tMinute\tWspd\tTdry\tDHI\tDNI\tGHI\tAlbedo\n",
    "\n",
    "    OR\n",
    "    # Year\tMonth\tDay\tHour\tWspd\tTdry\tDHI\tDNI\tGHI\tAlbedo\n",
    "\n",
    "    \"\"\"\n",
    "\n",
    "    import pandas as pd\n",
    "\n",
    "    header = \"Source,Location ID,City,State,Country,Latitude,Longitude,Time Zone,Elevation,,,,,,,,,,\\n\" + \\\n",
    "            \"Measured,724666,DENVER/CENTENNIAL [GOLDEN - NREL],CO,USA,39.742,-105.179,-7,1829,,,,,,,,,,\\n\"\n",
    "\n",
    "    savedata = pd.DataFrame({'Year':timestamps.year, 'Month':timestamps.month, 'Day':timestamps.day,\n",
    "                             'Hour':timestamps.hour})\n",
    "    if includeminute:\n",
    "    \n",
    "        savedata['Minute'] = timestamps.minute\n",
    "\n",
    "    windspeed = list(windspeed)\n",
    "    temp_amb = list(temp_amb)\n",
    "    savedata['Wspd'] = windspeed\n",
    "    savedata['Tdry'] = temp_amb\n",
    "    \n",
    "    if DHI is not None:\n",
    "        DHI = list(DHI)\n",
    "        savedata['DHI'] = DHI\n",
    "    \n",
    "    if DNI is not None:\n",
    "        DNI = list(DNI)\n",
    "        savedata['DNI'] = DNI\n",
    "                            \n",
    "    if GHI is not None:\n",
    "        GHI = list(GHI)\n",
    "        savedata['GHI'] = GHI\n",
    "    \n",
    "    if POA is not None:\n",
    "        POA = list(POA)\n",
    "        savedata['POA'] = POA\n",
    "        \n",
    "    if Albedo is not None:\n",
    "        Albedo = list(Albedo)\n",
    "        savedata['Albedo'] = Albedo\n",
    "      \n",
    "    with open(savefile, 'w', newline='') as ict:\n",
    "        # Write the header lines, including the index variable for\n",
    "        # the last one if you're letting Pandas produce that for you.\n",
    "        # (see above).\n",
    "        for line in header:\n",
    "            ict.write(line)\n",
    "\n",
    "        savedata.to_csv(ict, index=False)\n",
    "\n",
    "        \n",
    "def save_TMY3(srrl15, savefile='Bifacial_TMYfileAll2019_15.csv', includeTrackerData=False):\n",
    "    \"\"\"\n",
    "    NEW Routine to save TMY3 , assuming the columns Date and Time already exist and are in the right\n",
    "    1-24 hour format. (this can be done previous to submitting to this function by\n",
    "    reading a real CSV and joining those columns)\n",
    "    \n",
    "    Saves a dataframe with weathe data from SRRL in TMY3 data format.\n",
    "    \n",
    "    if includeTrackerData is True, it will also save the tracker data column.\n",
    "    \n",
    "\n",
    "    Headers expected by TMY3:\n",
    "    ************************* \n",
    "    # Location ID\tCity\tState\tTime Zone\tLatitude\tLongitude\tElevation\n",
    "\n",
    "    Column names\n",
    "    *************\n",
    "    # Date (MM/DD/YYYY)\t\tTime (HH:MM)\tGHI (W/m^2))\tDNI (W/m^2))\tDHI (W/m^2)\t\tWspd (m/s)\t\n",
    "    Dry-bulb (C)\tAlb (unitless)\t\n",
    "\n",
    "    \"\"\"\n",
    "\n",
    "    import pandas as pd\n",
    "\n",
    "    header = \"724666, DENVER/CENTENNIAL [GOLDEN - NREL], CO, -7, 39.742,-105.179, 1829\\n\"\n",
    "\n",
    "    savedata = pd.DataFrame({'Date (MM/DD/YYYY)':srrl15['Date (MM/DD/YYYY)'],\n",
    "                             'Time (HH:MM)':srrl15['Time (HH:MM)'],\n",
    "                             'Wspd (m/s)':srrl15['Avg Wind Speed @ 6ft [m/s]'],\n",
    "                             'Dry-bulb (C)':srrl15['Tower Dry Bulb Temp [deg C]'],\n",
    "                             'DHI (W/m^2)':srrl15['Diffuse 8-48 (vent) [W/m^2]'],\n",
    "                             'DNI (W/m^2)':srrl15['Direct CHP1-1 [W/m^2]'],\n",
    "                             'GHI (W/m^2)':srrl15['Global CMP22 (vent/cor) [W/m^2]'],\n",
    "                             'Alb (unitless)':srrl15['Albedo (CMP11)']})\n",
    "\n",
    "    if includeTrackerData:\n",
    "        savedata['Tracker Angle (degrees)'] = srrl15['Tracker Angle (degrees)']\n",
    "\n",
    "    with open(savefile, 'w', newline='') as ict:\n",
    "        # Write the header lines, including the index variable for\n",
    "        # the last one if you're letting Pandas produce that for you.\n",
    "        # (see above).\n",
    "        for line in header:\n",
    "            ict.write(line)\n",
    "\n",
    "        savedata.to_csv(ict, index=False)"
   ]
  },
  {
   "cell_type": "code",
   "execution_count": 7,
   "id": "1206930f",
   "metadata": {},
   "outputs": [],
   "source": [
    "filterdates = (data.index >= '2021-06-01')  & (data.index < '2022-06-01') \n",
    "data2 = data[filterdates].copy()"
   ]
  },
  {
   "cell_type": "code",
   "execution_count": 8,
   "id": "4ee6f2c7",
   "metadata": {},
   "outputs": [],
   "source": [
    "data2 = data[filterdates].resample('60T', label='left', closed='left').mean().copy()\n"
   ]
  },
  {
   "cell_type": "code",
   "execution_count": 9,
   "id": "9e704107",
   "metadata": {},
   "outputs": [
    {
     "data": {
      "text/plain": [
       "Index(['row2kWh', 'row2dcp', 'row2Gfront', 'Hydra_current_1',\n",
       "       'Hydra_current_10', 'Hydra_current_11', 'Hydra_current_12',\n",
       "       'Hydra_current_2', 'Hydra_current_3', 'Hydra_current_4',\n",
       "       'Hydra_current_5', 'Hydra_current_6', 'Hydra_current_7',\n",
       "       'Hydra_current_8', 'Hydra_current_9', 'row2temperature_ambient',\n",
       "       'row2tmod_1', 'row2tmod_2', 'row2wind_direction', 'row2wind_speed',\n",
       "       'row3Gfront', 'row3Grear_IMT_West', 'row3Grear_IMT_CenterWest',\n",
       "       'row3Grear_IMT_CenterEast', 'row3Grear_IMT_East', 'row3Grear_CM11',\n",
       "       'row3Grear_Licor', 'row3Gfront_CM11', 'row3Gfront_Licor', 'row4kWh',\n",
       "       'row4dcp', 'row4tmod_1', 'row4tmod_2', 'row5Grear', 'row5Gfront',\n",
       "       'row5temperature_ambient', 'row6tracker_angle', 'row7Grear',\n",
       "       'row7Gfront', 'row7tracker_angle', 'row7wind_direction',\n",
       "       'row7wind_speed', 'row7Grear_IMT_CenterEast', 'row7Grear_IMT_East',\n",
       "       'row7RotatingAlbedometer_CM11_Down', 'row7RotatingAlbedometer_CM11_Up',\n",
       "       'row8dcp', 'row8tmod_1', 'row8tmod_2', 'row8tracker_angle', 'row9kWh',\n",
       "       'row9dcp', 'row9Grear', 'row9Gfront', 'row9tmod_1', 'row9tmod_2',\n",
       "       'row9tmod_3', 'row9tmod_4', 'Grear', 'Gfront',\n",
       "       'temp_ambient_FieldAverage', 'sunkitty_GRI_CM22', 'sunkitty_GRI_IMT',\n",
       "       'sunkitty_GRI_AP', 'sunkitty_GHI_CM22', 'sunkitty_GHI_IMT',\n",
       "       'sunkitty_GHI_AP', 'sunkitty_albedo_CM22', 'sunkitty_albedo_IMT',\n",
       "       'sunkitty_albedo_AP', 'albedo', 'row2Pmp', 'row4Pmp', 'row9Pmp', 'Yf2',\n",
       "       'Yf4', 'Yf8', 'Yf9', 'PR2', 'PR4', 'PR8', 'PR9', 'SRRL_albedo',\n",
       "       'SRRL_windspeed', 'SRRL_DHI', 'SRRL_DNI', 'SRRL_GHI',\n",
       "       'SRRL_temperature_ambient'],\n",
       "      dtype='object')"
      ]
     },
     "execution_count": 9,
     "metadata": {},
     "output_type": "execute_result"
    }
   ],
   "source": [
    "data2.keys()"
   ]
  },
  {
   "cell_type": "code",
   "execution_count": 10,
   "id": "91db6b25",
   "metadata": {},
   "outputs": [],
   "source": [
    "# 00a - Baseline\n",
    "saveSAM_WeatherFile(timestamps = data2.index, windspeed = data2.row7wind_speed, temp_amb = data2.temp_ambient_FieldAverage, \n",
    "                    Albedo = data2.sunkitty_GRI_CM22, \n",
    "                    DHI = data2.SRRL_DHI, DNI = data2.SRRL_DNI, GHI = data2.SRRL_GHI,\n",
    "                    savefile = 'BEST_SAM_60_Comb_00a.csv', includeminute = False)"
   ]
  },
  {
   "cell_type": "code",
   "execution_count": 11,
   "id": "1bdb5cc1",
   "metadata": {},
   "outputs": [],
   "source": [
    "# 00b - Baseline sunkitty_albedo_IMT\n",
    "saveSAM_WeatherFile(timestamps = data2.index, windspeed = data2.row7wind_speed, temp_amb = data2.temp_ambient_FieldAverage, \n",
    "                    Albedo = data2.sunkitty_albedo_IMT, \n",
    "                    DHI = data2.SRRL_DHI, DNI = data2.SRRL_DNI, GHI = data2.SRRL_GHI,\n",
    "                    savefile = 'BEST_SAM_60_Comb_00b.csv', includeminute = False)"
   ]
  },
  {
   "cell_type": "code",
   "execution_count": 12,
   "id": "49f55ebb",
   "metadata": {},
   "outputs": [],
   "source": [
    "# 00c - Baseline sunkitty_albedo_AP\n",
    "saveSAM_WeatherFile(timestamps = data2.index, windspeed = data2.row7wind_speed, temp_amb = data2.temp_ambient_FieldAverage, \n",
    "                    Albedo = data2.sunkitty_albedo_AP, \n",
    "                    DHI = data2.SRRL_DHI, DNI = data2.SRRL_DNI, GHI = data2.SRRL_GHI,\n",
    "                    savefile = 'BEST_SAM_60_Comb_00c.csv', includeminute = False)"
   ]
  },
  {
   "cell_type": "code",
   "execution_count": 13,
   "id": "85d9e5a2",
   "metadata": {},
   "outputs": [],
   "source": [
    "# 00d - Baseline SRRL_albedo\n",
    "saveSAM_WeatherFile(timestamps = data2.index, windspeed = data2.row7wind_speed, temp_amb = data2.temp_ambient_FieldAverage, \n",
    "                    Albedo = data2.SRRL_albedo, \n",
    "                    DHI = data2.SRRL_DHI, DNI = data2.SRRL_DNI, GHI = data2.SRRL_GHI,\n",
    "                    savefile = 'BEST_SAM_60_Comb_00d.csv', includeminute = False)"
   ]
  },
  {
   "cell_type": "code",
   "execution_count": null,
   "id": "3e391022",
   "metadata": {},
   "outputs": [],
   "source": [
    "# 00e - Baseline Albedo = 0.22\n",
    "saveSAM_WeatherFile(timestamps = data2.index, windspeed = data2.row7wind_speed, temp_amb = data2.temp_ambient_FieldAverage, \n",
    "                    Albedo = 0.22,\n",
    "                    DHI = data2.SRRL_DHI, DNI = data2.SRRL_DNI, GHI = data2.SRRL_GHI,\n",
    "                    savefile = 'BEST_SAM_60_Comb_00e.csv', includeminute = False)"
   ]
  },
  {
   "cell_type": "code",
   "execution_count": null,
   "id": "72e12293",
   "metadata": {},
   "outputs": [],
   "source": [
    "## FINISH\n",
    "# 00f - Baseline MONTHLY ALBEDOS\n",
    "saveSAM_WeatherFile(timestamps = data2.index, windspeed = data2.row7wind_speed, temp_amb = data2.temp_ambient_FieldAverage, \n",
    "                    Albedo = data2.SRRL_albedo, \n",
    "                    DHI = data2.SRRL_DHI, DNI = data2.SRRL_DNI, GHI = data2.SRRL_GHI,\n",
    "                    savefile = 'BEST_SAM_60_Comb_00f.csv', includeminute = False)"
   ]
  },
  {
   "cell_type": "code",
   "execution_count": 16,
   "id": "5f067538",
   "metadata": {},
   "outputs": [
    {
     "data": {
      "text/plain": [
       "2021-06-30 00:00:00-07:00    0.109330\n",
       "2021-06-30 01:00:00-07:00    0.109330\n",
       "2021-06-30 02:00:00-07:00    0.109330\n",
       "2021-06-30 03:00:00-07:00    0.109330\n",
       "2021-06-30 04:00:00-07:00    0.109330\n",
       "                               ...   \n",
       "2022-05-30 20:00:00-07:00    0.108002\n",
       "2022-05-30 21:00:00-07:00    0.108002\n",
       "2022-05-30 22:00:00-07:00    0.108002\n",
       "2022-05-30 23:00:00-07:00    0.108002\n",
       "2022-05-31 00:00:00-07:00    0.127146\n",
       "Freq: 60T, Name: SRRL_albedo, Length: 8041, dtype: float64"
      ]
     },
     "execution_count": 16,
     "metadata": {},
     "output_type": "execute_result"
    }
   ],
   "source": [
    "foo2 = data2['SRRL_albedo']\n",
    "foo2 = foo2.resample('1M').mean()\n",
    "foo2 = foo2.resample('60T', label='left', closed='left').fillna('ffill')\n",
    "foo['index'] = pd.to_datetime(data2.index)\n",
    "foo['SRRL_albedo'] = (data2.groupby(foo['index'].dt.to_period('M'))['SRRL_albedo'].transform('mean'))"
   ]
  },
  {
   "cell_type": "code",
   "execution_count": null,
   "id": "34a28eeb",
   "metadata": {
    "scrolled": true
   },
   "outputs": [],
   "source": []
  },
  {
   "cell_type": "code",
   "execution_count": null,
   "id": "a2b4eb93",
   "metadata": {},
   "outputs": [],
   "source": [
    "## ??? Interest NSRDB Satellite data ---> \n",
    "# 00g - Baseline SATELLITE ALBEDOS FOR A TYPICAL YEAR? \n",
    "saveSAM_WeatherFile(timestamps = data2.index, windspeed = data2.row7wind_speed, temp_amb = data2.temp_ambient_FieldAverage, \n",
    "                    Albedo = data2.SRRL_albedo, \n",
    "                    DHI = data2.SRRL_DHI, DNI = data2.SRRL_DNI, GHI = data2.SRRL_GHI,\n",
    "                    savefile = 'BEST_SAM_60_Comb_00g.csv', includeminute = False)"
   ]
  },
  {
   "cell_type": "markdown",
   "id": "bc24d076",
   "metadata": {},
   "source": [
    "### 0 POA Front:"
   ]
  },
  {
   "cell_type": "code",
   "execution_count": 18,
   "id": "8a207673",
   "metadata": {},
   "outputs": [],
   "source": [
    "# 01a - POA row5Gfront\n",
    "saveSAM_WeatherFile(timestamps = data2.index, windspeed = data2.row7wind_speed, temp_amb = data2.temp_ambient_FieldAverage, \n",
    "                    Albedo = data2.sunkitty_GRI_CM22, \n",
    "                    POA = data2.row5Gfront,\n",
    "                    savefile = 'BEST_SAM_60_Comb_01a.csv', includeminute = False)"
   ]
  },
  {
   "cell_type": "code",
   "execution_count": 19,
   "id": "c28ad3a9",
   "metadata": {},
   "outputs": [],
   "source": [
    "# 01b - POA row2Gfront\n",
    "saveSAM_WeatherFile(timestamps = data2.index, windspeed = data2.row7wind_speed, temp_amb = data2.temp_ambient_FieldAverage, \n",
    "                    Albedo = data2.sunkitty_GRI_CM22, \n",
    "                    POA = data2.row2Gfront,\n",
    "                    savefile = 'BEST_SAM_60_Comb_01b.csv', includeminute = False)"
   ]
  },
  {
   "cell_type": "code",
   "execution_count": 20,
   "id": "d6585f75",
   "metadata": {},
   "outputs": [],
   "source": [
    "# 01c - POA row3Gfront\n",
    "saveSAM_WeatherFile(timestamps = data2.index, windspeed = data2.row7wind_speed, temp_amb = data2.temp_ambient_FieldAverage, \n",
    "                    Albedo = data2.sunkitty_GRI_CM22, \n",
    "                    POA = data2.row3Gfront,\n",
    "                    savefile = 'BEST_SAM_60_Comb_01c.csv', includeminute = False)"
   ]
  },
  {
   "cell_type": "code",
   "execution_count": 21,
   "id": "fbe93cd5",
   "metadata": {},
   "outputs": [],
   "source": [
    "# 01d - POA row7Gfront\n",
    "saveSAM_WeatherFile(timestamps = data2.index, windspeed = data2.row7wind_speed, temp_amb = data2.temp_ambient_FieldAverage, \n",
    "                    Albedo = data2.sunkitty_GRI_CM22, \n",
    "                    POA = data2.row7Gfront,\n",
    "                    savefile = 'BEST_SAM_60_Comb_01d.csv', includeminute = False)"
   ]
  },
  {
   "cell_type": "code",
   "execution_count": 22,
   "id": "4efa25c0",
   "metadata": {},
   "outputs": [],
   "source": [
    "# 01e - POA row9Gfront\n",
    "saveSAM_WeatherFile(timestamps = data2.index, windspeed = data2.row7wind_speed, temp_amb = data2.temp_ambient_FieldAverage, \n",
    "                    Albedo = data2.sunkitty_GRI_CM22, \n",
    "                    POA = data2.row9Gfront,\n",
    "                    savefile = 'BEST_SAM_60_Comb_01e.csv', includeminute = False)"
   ]
  },
  {
   "cell_type": "code",
   "execution_count": 23,
   "id": "6c57364f",
   "metadata": {},
   "outputs": [],
   "source": [
    "# 01f - POA row3Gfront_CM11\n",
    "saveSAM_WeatherFile(timestamps = data2.index, windspeed = data2.row7wind_speed, temp_amb = data2.temp_ambient_FieldAverage, \n",
    "                    Albedo = data2.sunkitty_GRI_CM22, \n",
    "                    POA = data2.row3Gfront_CM11,\n",
    "                    savefile = 'BEST_SAM_60_Comb_01f.csv', includeminute = False)"
   ]
  },
  {
   "cell_type": "code",
   "execution_count": 24,
   "id": "faa9f9ea",
   "metadata": {},
   "outputs": [],
   "source": [
    "# 01g - POA row3Gfront_Licor\n",
    "saveSAM_WeatherFile(timestamps = data2.index, windspeed = data2.row7wind_speed, temp_amb = data2.temp_ambient_FieldAverage, \n",
    "                    Albedo = data2.sunkitty_GRI_CM22, \n",
    "                    POA = data2.row3Gfront_Licor,\n",
    "                    savefile = 'BEST_SAM_60_Comb_01f.csv', includeminute = False)"
   ]
  },
  {
   "cell_type": "markdown",
   "id": "c7fa106b",
   "metadata": {},
   "source": [
    "### POA Front + Rear"
   ]
  },
  {
   "cell_type": "code",
   "execution_count": 25,
   "id": "941b8c78",
   "metadata": {},
   "outputs": [],
   "source": [
    "# 02a - POA row5Gfront + data2.Grear,\n",
    "saveSAM_WeatherFile(timestamps = data2.index, windspeed = data2.row7wind_speed, temp_amb = data2.temp_ambient_FieldAverage, \n",
    "                    Albedo = data2.sunkitty_GRI_CM22, \n",
    "                    POA = data2.Gfront + data2.Grear,\n",
    "                    savefile = 'BEST_SAM_60_Comb_02a.csv', includeminute = False)"
   ]
  },
  {
   "cell_type": "code",
   "execution_count": 26,
   "id": "48d751a4",
   "metadata": {},
   "outputs": [],
   "source": [
    "# 02b - POA row2Gfront + data2.Grear,\n",
    "saveSAM_WeatherFile(timestamps = data2.index, windspeed = data2.row7wind_speed, temp_amb = data2.temp_ambient_FieldAverage, \n",
    "                    Albedo = data2.sunkitty_GRI_CM22, \n",
    "                    POA = data2.row2Gfront + data2.Grear,\n",
    "                    savefile = 'BEST_SAM_60_Comb_02b.csv', includeminute = False)"
   ]
  },
  {
   "cell_type": "code",
   "execution_count": 27,
   "id": "f8a43bda",
   "metadata": {},
   "outputs": [],
   "source": [
    "# 02c - POA row3Gfront + data2.Grear,\n",
    "saveSAM_WeatherFile(timestamps = data2.index, windspeed = data2.row7wind_speed, temp_amb = data2.temp_ambient_FieldAverage, \n",
    "                    Albedo = data2.sunkitty_GRI_CM22, \n",
    "                    POA = data2.row3Gfront + data2.Grear,\n",
    "                    savefile = 'BEST_SAM_60_Comb_02c.csv', includeminute = False)"
   ]
  },
  {
   "cell_type": "code",
   "execution_count": 28,
   "id": "0f397911",
   "metadata": {},
   "outputs": [],
   "source": [
    "# 02d - POA row7Gfront + data2.Grear,\n",
    "saveSAM_WeatherFile(timestamps = data2.index, windspeed = data2.row7wind_speed, temp_amb = data2.temp_ambient_FieldAverage, \n",
    "                    Albedo = data2.sunkitty_GRI_CM22, \n",
    "                    POA = data2.row7Gfront + data2.Grear,\n",
    "                    savefile = 'BEST_SAM_60_Comb_02d.csv', includeminute = False)"
   ]
  },
  {
   "cell_type": "code",
   "execution_count": 29,
   "id": "bf42deb2",
   "metadata": {},
   "outputs": [],
   "source": [
    "# 02e - POA row9Gfront + data2.Grear,\n",
    "saveSAM_WeatherFile(timestamps = data2.index, windspeed = data2.row7wind_speed, temp_amb = data2.temp_ambient_FieldAverage, \n",
    "                    Albedo = data2.sunkitty_GRI_CM22, \n",
    "                    POA = data2.row9Gfront + data2.Grear,\n",
    "                    savefile = 'BEST_SAM_60_Comb_02e.csv', includeminute = False)"
   ]
  },
  {
   "cell_type": "code",
   "execution_count": 30,
   "id": "7393f149",
   "metadata": {},
   "outputs": [],
   "source": [
    "# 02f - POA row3Gfront_CM11 + data2.row3Grear_CM11,\n",
    "saveSAM_WeatherFile(timestamps = data2.index, windspeed = data2.row7wind_speed, temp_amb = data2.temp_ambient_FieldAverage, \n",
    "                    Albedo = data2.sunkitty_GRI_CM22, \n",
    "                    POA = data2.row3Gfront_CM11 + data2.row3Grear_CM11,\n",
    "                    savefile = 'BEST_SAM_60_Comb_02f.csv', includeminute = False)"
   ]
  },
  {
   "cell_type": "code",
   "execution_count": 31,
   "id": "037fd409",
   "metadata": {},
   "outputs": [],
   "source": [
    "# 02g - POA row3Gfront_Licor + data2.row3Grear_Licor,\n",
    "saveSAM_WeatherFile(timestamps = data2.index, windspeed = data2.row7wind_speed, temp_amb = data2.temp_ambient_FieldAverage, \n",
    "                    Albedo = data2.sunkitty_GRI_CM22, \n",
    "                    POA = data2.row3Gfront_Licor + data2.row3Grear_Licor,\n",
    "                    savefile = 'BEST_SAM_60_Comb_02f.csv', includeminute = False)"
   ]
  },
  {
   "cell_type": "markdown",
   "id": "e0b76c8d",
   "metadata": {},
   "source": [
    "### 3 POA Front + Grear single locations"
   ]
  },
  {
   "cell_type": "code",
   "execution_count": 32,
   "id": "104ad6ca",
   "metadata": {},
   "outputs": [],
   "source": [
    "# 03a - POA Gfront + data2.row3Grear_IMT_West,\n",
    "saveSAM_WeatherFile(timestamps = data2.index, windspeed = data2.row7wind_speed, temp_amb = data2.temp_ambient_FieldAverage, \n",
    "                    Albedo = data2.sunkitty_GRI_CM22, \n",
    "                    POA = data2.Gfront + data2.row3Grear_IMT_West,\n",
    "                    savefile = 'BEST_SAM_60_Comb_03a.csv', includeminute = False)"
   ]
  },
  {
   "cell_type": "code",
   "execution_count": 33,
   "id": "369bfef6",
   "metadata": {},
   "outputs": [],
   "source": [
    "# 03b - POA Gfront + data2.row3Grear_IMT_CenterWest,\n",
    "saveSAM_WeatherFile(timestamps = data2.index, windspeed = data2.row7wind_speed, temp_amb = data2.temp_ambient_FieldAverage, \n",
    "                    Albedo = data2.sunkitty_GRI_CM22, \n",
    "                    POA = data2.Gfront + data2.row3Grear_IMT_CenterWest,\n",
    "                    savefile = 'BEST_SAM_60_Comb_03b.csv', includeminute = False)"
   ]
  },
  {
   "cell_type": "code",
   "execution_count": 34,
   "id": "dcaef345",
   "metadata": {},
   "outputs": [],
   "source": [
    "# 03c - POA Gfront + data2.row3Grear_IMT_CenterEast,\n",
    "saveSAM_WeatherFile(timestamps = data2.index, windspeed = data2.row7wind_speed, temp_amb = data2.temp_ambient_FieldAverage, \n",
    "                    Albedo = data2.sunkitty_GRI_CM22, \n",
    "                    POA = data2.Gfront + data2.row3Grear_IMT_CenterEast,\n",
    "                    savefile = 'BEST_SAM_60_Comb_03c.csv', includeminute = False)"
   ]
  },
  {
   "cell_type": "code",
   "execution_count": 35,
   "id": "e5168ed9",
   "metadata": {},
   "outputs": [],
   "source": [
    "# 03d - POA Gfront + data2.row3Grear_IMT_East,\n",
    "saveSAM_WeatherFile(timestamps = data2.index, windspeed = data2.row7wind_speed, temp_amb = data2.temp_ambient_FieldAverage, \n",
    "                    Albedo = data2.sunkitty_GRI_CM22, \n",
    "                    POA = data2.Gfront + data2.row3Grear_IMT_East,\n",
    "                    savefile = 'BEST_SAM_60_Comb_03d.csv', includeminute = False)"
   ]
  },
  {
   "cell_type": "code",
   "execution_count": 36,
   "id": "7162618a",
   "metadata": {},
   "outputs": [],
   "source": [
    "# 03e - POA Gfront + data2.row5Grear,\n",
    "saveSAM_WeatherFile(timestamps = data2.index, windspeed = data2.row7wind_speed, temp_amb = data2.temp_ambient_FieldAverage, \n",
    "                    Albedo = data2.sunkitty_GRI_CM22, \n",
    "                    POA = data2.Gfront + data2.row5Grear,\n",
    "                    savefile = 'BEST_SAM_60_Comb_03e.csv', includeminute = False)"
   ]
  },
  {
   "cell_type": "code",
   "execution_count": 37,
   "id": "857d1658",
   "metadata": {},
   "outputs": [],
   "source": [
    "# 03f - POA Gfront + data2.row7Grear_IMT_CenterEast,\n",
    "saveSAM_WeatherFile(timestamps = data2.index, windspeed = data2.row7wind_speed, temp_amb = data2.temp_ambient_FieldAverage, \n",
    "                    Albedo = data2.sunkitty_GRI_CM22, \n",
    "                    POA = data2.Gfront + data2.row7Grear_IMT_CenterEast,\n",
    "                    savefile = 'BEST_SAM_60_Comb_03f.csv', includeminute = False)"
   ]
  },
  {
   "cell_type": "code",
   "execution_count": 38,
   "id": "59eab48b",
   "metadata": {},
   "outputs": [],
   "source": [
    "# 03g - POA Gfront + data2.row7Grear_IMT_East,\n",
    "saveSAM_WeatherFile(timestamps = data2.index, windspeed = data2.row7wind_speed, temp_amb = data2.temp_ambient_FieldAverage, \n",
    "                    Albedo = data2.sunkitty_GRI_CM22, \n",
    "                    POA = data2.Gfront + data2.row7Grear_IMT_East,\n",
    "                    savefile = 'BEST_SAM_60_Comb_03g.csv', includeminute = False)"
   ]
  },
  {
   "cell_type": "code",
   "execution_count": 39,
   "id": "71d0668f",
   "metadata": {},
   "outputs": [],
   "source": [
    "# 03h - POA Gfront + data2.row9Grear\n",
    "saveSAM_WeatherFile(timestamps = data2.index, windspeed = data2.row7wind_speed, temp_amb = data2.temp_ambient_FieldAverage, \n",
    "                    Albedo = data2.sunkitty_GRI_CM22, \n",
    "                    POA = data2.Gfront + data2.row9Grear,\n",
    "                    savefile = 'BEST_SAM_60_Comb_03h.csv', includeminute = False)"
   ]
  },
  {
   "cell_type": "code",
   "execution_count": null,
   "id": "50705281",
   "metadata": {},
   "outputs": [],
   "source": []
  }
 ],
 "metadata": {
  "kernelspec": {
   "display_name": "Python 3 (ipykernel)",
   "language": "python",
   "name": "python3"
  },
  "language_info": {
   "codemirror_mode": {
    "name": "ipython",
    "version": 3
   },
   "file_extension": ".py",
   "mimetype": "text/x-python",
   "name": "python",
   "nbconvert_exporter": "python",
   "pygments_lexer": "ipython3",
   "version": "3.8.8"
  }
 },
 "nbformat": 4,
 "nbformat_minor": 5
}
