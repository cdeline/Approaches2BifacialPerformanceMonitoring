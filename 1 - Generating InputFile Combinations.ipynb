{
 "cells": [
  {
   "cell_type": "markdown",
   "id": "28cb8178",
   "metadata": {},
   "source": [
    "# 1 - Generating Inputfile Combinations"
   ]
  },
  {
   "cell_type": "code",
   "execution_count": 1,
   "id": "28a9256e",
   "metadata": {},
   "outputs": [],
   "source": [
    "fielddataFolder = 'FieldData'\n",
    "InputFilesFolder = 'InputFiles'\n",
    "debugflag = False"
   ]
  },
  {
   "cell_type": "code",
   "execution_count": 2,
   "id": "cb0af38a",
   "metadata": {},
   "outputs": [
    {
     "name": "stdout",
     "output_type": "stream",
     "text": [
      "Pandas version: 1.5.0\n"
     ]
    }
   ],
   "source": [
    "import pandas as pd\n",
    "print(f'Pandas version: {pd.__version__}')  #pandas needs to be 1.5 to be able to read the pickle file.\n",
    "import matplotlib.pyplot as plt\n",
    "import pvlib\n",
    "import numpy as np\n",
    "import os"
   ]
  },
  {
   "cell_type": "code",
   "execution_count": 3,
   "id": "53aea2f5",
   "metadata": {},
   "outputs": [],
   "source": [
    "plt.rcParams.update({'font.size': 22})\n",
    "plt.rcParams['figure.figsize'] = (12, 4)"
   ]
  },
  {
   "cell_type": "markdown",
   "id": "bd08006d",
   "metadata": {},
   "source": [
    "## Read Pickle with all rows data"
   ]
  },
  {
   "cell_type": "markdown",
   "id": "07f2f937",
   "metadata": {},
   "source": [
    "This pickle is all the rows together, with data starting on 03/08 and ending on 07/29"
   ]
  },
  {
   "cell_type": "code",
   "execution_count": 4,
   "id": "3ed0c07f",
   "metadata": {
    "scrolled": true
   },
   "outputs": [
    {
     "name": "stdout",
     "output_type": "stream",
     "text": [
      "Clean pickle loaded for Plotting Production Data, # datapoints:  1665830\n",
      "Spanning from 2019-07-01 00:02:00-07:00  to  2022-09-07 23:20:00-07:00\n"
     ]
    }
   ],
   "source": [
    "try:\n",
    "    data = pd.read_pickle(os.path.join(fielddataFolder,'DATA_Release.pickle'))\n",
    "except AttributeError:\n",
    "    raise Exception('Error: pandas needs to be >= 1.5.0 to read this pickle file')\n",
    "        \n",
    "print(\"Clean pickle loaded for Plotting Production Data, # datapoints: \", data.__len__())\n",
    "print(\"Spanning from\", data.index[0], \" to \", data.index[-1])"
   ]
  },
  {
   "cell_type": "code",
   "execution_count": 5,
   "id": "09dd269a",
   "metadata": {},
   "outputs": [
    {
     "data": {
      "text/plain": [
       "Index(['row2kWh', 'row2dcp', 'row2Gfront', 'Hydra_current_1',\n",
       "       'Hydra_current_10', 'Hydra_current_11', 'Hydra_current_12',\n",
       "       'Hydra_current_2', 'Hydra_current_3', 'Hydra_current_4',\n",
       "       'Hydra_current_5', 'Hydra_current_6', 'Hydra_current_7',\n",
       "       'Hydra_current_8', 'Hydra_current_9', 'row2temperature_ambient',\n",
       "       'row2tmod_1', 'row2tmod_2', 'row2wind_direction', 'row2wind_speed',\n",
       "       'row3Gfront', 'row3Grear_IMT_West', 'row3Grear_IMT_CenterWest',\n",
       "       'row3Grear_IMT_CenterEast', 'row3Grear_IMT_East', 'row3Grear_CM11',\n",
       "       'row3Grear_Licor', 'row3Gfront_CM11', 'row3Gfront_Licor', 'row4kWh',\n",
       "       'row4dcp', 'row4tmod_1', 'row4tmod_2', 'row5Grear', 'row5Gfront',\n",
       "       'row5temperature_ambient', 'row6tracker_angle', 'row7Grear',\n",
       "       'row7Gfront', 'row7tracker_angle', 'row7wind_direction',\n",
       "       'row7wind_speed', 'row7Grear_IMT_CenterEast', 'row7Grear_IMT_East',\n",
       "       'row7RotatingAlbedometer_CM11_Down', 'row7RotatingAlbedometer_CM11_Up',\n",
       "       'row8dcp', 'row8tmod_1', 'row8tmod_2', 'row8tracker_angle', 'row9kWh',\n",
       "       'row9dcp', 'row9Grear', 'row9Gfront', 'row9tmod_1', 'row9tmod_2',\n",
       "       'row9tmod_3', 'row9tmod_4', 'Grear', 'Gfront',\n",
       "       'temp_ambient_FieldAverage', 'sunkitty_GRI_CM22', 'sunkitty_GRI_IMT',\n",
       "       'sunkitty_GRI_AP', 'sunkitty_GHI_CM22', 'sunkitty_GHI_IMT',\n",
       "       'sunkitty_GHI_AP', 'sunkitty_albedo_CM22', 'sunkitty_albedo_IMT',\n",
       "       'sunkitty_albedo_AP', 'albedo', 'row2Pmp', 'row4Pmp', 'row9Pmp', 'Yf2',\n",
       "       'Yf4', 'Yf8', 'Yf9', 'PR2', 'PR4', 'PR8', 'PR9', 'SRRL_albedo',\n",
       "       'SRRL_windspeed', 'SRRL_DHI', 'SRRL_DNI', 'SRRL_GHI',\n",
       "       'SRRL_temperature_ambient'],\n",
       "      dtype='object')"
      ]
     },
     "execution_count": 5,
     "metadata": {},
     "output_type": "execute_result"
    }
   ],
   "source": [
    "data.keys()"
   ]
  },
  {
   "cell_type": "code",
   "execution_count": 65,
   "id": "f46b581b",
   "metadata": {},
   "outputs": [],
   "source": [
    "def saveSAM_WeatherFile(timestamps, windspeed, temp_amb, Albedo, POA=None, DHI=None, DNI=None, GHI=None, \n",
    "                        savefile='Bifacial_SAM.csv', includeminute = True):\n",
    "    \"\"\"\n",
    "    Saves a dataframe with weather data from SRRL on SAM-friendly format.\n",
    "\n",
    "    INPUT:\n",
    "    data\n",
    "    savefile\n",
    "    includeminute  -- especially for hourly data, if SAM input does not have Minutes, it assuems it's TMY3 format and \n",
    "                      calculates the sun position 30 minutes prior to the hour (i.e. 12 timestamp means sun position at 11:30)\n",
    "                      If minutes are included, it will calculate the sun position at the time of the timestamp (12:00 at 12:00)\n",
    "                      Include minutes if resolution of data is not hourly duh. (but it will calculate at the timestamp)\n",
    "                      \n",
    "    Headers expected by SAM:\n",
    "    ************************* \n",
    "    # Source\tLocation ID\tCity\tState\tCountry\tLatitude\tLongitude\tTime Zone\tElevation\t\t\n",
    "\n",
    "    Column names\n",
    "    *************\n",
    "    # Year\tMonth\tDay\tHour\tMinute\tWspd\tTdry\tDHI\tDNI\tGHI\tAlbedo\n",
    "\n",
    "    OR\n",
    "    # Year\tMonth\tDay\tHour\tWspd\tTdry\tDHI\tDNI\tGHI\tAlbedo\n",
    "\n",
    "    \"\"\"\n",
    "\n",
    "    import pandas as pd\n",
    "\n",
    "    header = \"Source,Location ID,City,State,Country,Latitude,Longitude,Time Zone,Elevation,,,,,,,,,,\\n\" + \\\n",
    "            \"Measured,724666,DENVER/CENTENNIAL [GOLDEN - NREL],CO,USA,39.742,-105.179,-7,1829,,,,,,,,,,\\n\"\n",
    "\n",
    "    savedata = pd.DataFrame({'Year':timestamps.year, 'Month':timestamps.month, 'Day':timestamps.day,\n",
    "                             'Hour':timestamps.hour})\n",
    "    if includeminute:\n",
    "    \n",
    "        savedata['Minute'] = timestamps.minute\n",
    "\n",
    "    savedata['Wspd'] = list(windspeed.fillna(0))\n",
    "    savedata['Tdry'] = list(temp_amb.fillna(20))\n",
    "    \n",
    "    if DHI is not None:\n",
    "        savedata['DHI'] = list(DHI.fillna(0))\n",
    "    \n",
    "    if DNI is not None:\n",
    "        savedata['DNI'] = list(DNI.fillna(0))\n",
    "                            \n",
    "    if GHI is not None:\n",
    "        savedata['GHI'] = list(GHI.fillna(0))\n",
    "    \n",
    "    if POA is not None:\n",
    "        savedata['POA'] = list(POA.fillna(0))\n",
    "        \n",
    "    if Albedo is not None:\n",
    "        if type(Albedo) == pd.Series:\n",
    "            #Albedo.loc[(~np.isfinite(Albedo)) & Albedo.notnull()] = np.nan\n",
    "            \n",
    "            Albedo = Albedo.fillna(0.99).clip(lower=0.01,upper=0.99)\n",
    "        savedata['Albedo'] = list(Albedo)\n",
    "        \n",
    "    # reorder csv\n",
    "    savedata = savedata.sort_values(by=['Month','Day','Hour'])\n",
    "      \n",
    "    with open(savefile, 'w', newline='') as ict:\n",
    "        # Write the header lines, including the index variable for\n",
    "        # the last one if you're letting Pandas produce that for you.\n",
    "        # (see above).\n",
    "        for line in header:\n",
    "            ict.write(line)\n",
    "\n",
    "        savedata.to_csv(ict, index=False)\n",
    "   \n",
    "        \n",
    "def save_TMY3(datecol, timecol, windspeed, temp_amb, Albedo, POA=None, DHI=None, DNI=None, GHI=None, \n",
    "                        savefile='TMY3.csv', trackerdata=None):\n",
    "    \"\"\"\n",
    "    NEW Routine to save TMY3 , assuming the columns Date and Time already exist and are in the right\n",
    "    1-24 hour format. (this can be done previous to submitting to this function by\n",
    "    reading a real CSV and joining those columns)\n",
    "    \n",
    "    Saves a dataframe with weathe data from SRRL in TMY3 data format.\n",
    "    \n",
    "    if includeTrackerData is True, it will also save the tracker data column.\n",
    "    \n",
    "\n",
    "    Headers expected by TMY3:\n",
    "    ************************* \n",
    "    # Location ID\tCity\tState\tTime Zone\tLatitude\tLongitude\tElevation\n",
    "\n",
    "    Column names\n",
    "    *************\n",
    "    # Date (MM/DD/YYYY)\t\tTime (HH:MM)\tGHI (W/m^2))\tDNI (W/m^2))\tDHI (W/m^2)\t\tWspd (m/s)\t\n",
    "    Dry-bulb (C)\tAlb (unitless)\t\n",
    "\n",
    "    \"\"\"\n",
    "\n",
    "    import pandas as pd\n",
    "\n",
    "    header = \"724666, DENVER/CENTENNIAL [GOLDEN - NREL], CO, -7, 39.742,-105.179, 1829\\n\"\n",
    "\n",
    "    savedata = pd.DataFrame({'Date (MM/DD/YYYY)':datecol,\n",
    "                             'Time (HH:MM)':timecol,\n",
    "                             'Wspd (m/s)':windspeed,\n",
    "                             'Dry-bulb (C)':temp_amb,\n",
    "                             'DHI (W/m^2)':DHI,\n",
    "                             'DNI (W/m^2)':DNI,\n",
    "                             'GHI (W/m^2)':GHI,\n",
    "                             'Alb (unitless)':Albedo})\n",
    "\n",
    "    if trackerdata is not None:\n",
    "        savedata['Tracker Angle (degrees)'] = trackerdata\n",
    "\n",
    "    with open(savefile, 'w', newline='') as ict:\n",
    "        # Write the header lines, including the index variable for\n",
    "        # the last one if you're letting Pandas produce that for you.\n",
    "        # (see above).\n",
    "        for line in header:\n",
    "            ict.write(line)\n",
    "\n",
    "        savedata.to_csv(ict, index=False)"
   ]
  },
  {
   "cell_type": "code",
   "execution_count": 7,
   "id": "1206930f",
   "metadata": {},
   "outputs": [],
   "source": [
    "filterdates = (data.index >= '2021-06-01')  & (data.index < '2022-06-01') \n",
    "data2 = data[filterdates].copy()"
   ]
  },
  {
   "cell_type": "code",
   "execution_count": 12,
   "id": "4ee6f2c7",
   "metadata": {},
   "outputs": [],
   "source": [
    "data2 = data[filterdates].resample('60T', label='left', closed='left').mean().copy()\n",
    "data3 = data[filterdates].resample('60T', label='right', closed='right').mean().copy()\n",
    "data4 = data[filterdates].resample('15T', label='right', closed='right').mean().copy()"
   ]
  },
  {
   "cell_type": "code",
   "execution_count": 9,
   "id": "9e704107",
   "metadata": {},
   "outputs": [
    {
     "data": {
      "text/plain": [
       "Index(['row2kWh', 'row2dcp', 'row2Gfront', 'Hydra_current_1',\n",
       "       'Hydra_current_10', 'Hydra_current_11', 'Hydra_current_12',\n",
       "       'Hydra_current_2', 'Hydra_current_3', 'Hydra_current_4',\n",
       "       'Hydra_current_5', 'Hydra_current_6', 'Hydra_current_7',\n",
       "       'Hydra_current_8', 'Hydra_current_9', 'row2temperature_ambient',\n",
       "       'row2tmod_1', 'row2tmod_2', 'row2wind_direction', 'row2wind_speed',\n",
       "       'row3Gfront', 'row3Grear_IMT_West', 'row3Grear_IMT_CenterWest',\n",
       "       'row3Grear_IMT_CenterEast', 'row3Grear_IMT_East', 'row3Grear_CM11',\n",
       "       'row3Grear_Licor', 'row3Gfront_CM11', 'row3Gfront_Licor', 'row4kWh',\n",
       "       'row4dcp', 'row4tmod_1', 'row4tmod_2', 'row5Grear', 'row5Gfront',\n",
       "       'row5temperature_ambient', 'row6tracker_angle', 'row7Grear',\n",
       "       'row7Gfront', 'row7tracker_angle', 'row7wind_direction',\n",
       "       'row7wind_speed', 'row7Grear_IMT_CenterEast', 'row7Grear_IMT_East',\n",
       "       'row7RotatingAlbedometer_CM11_Down', 'row7RotatingAlbedometer_CM11_Up',\n",
       "       'row8dcp', 'row8tmod_1', 'row8tmod_2', 'row8tracker_angle', 'row9kWh',\n",
       "       'row9dcp', 'row9Grear', 'row9Gfront', 'row9tmod_1', 'row9tmod_2',\n",
       "       'row9tmod_3', 'row9tmod_4', 'Grear', 'Gfront',\n",
       "       'temp_ambient_FieldAverage', 'sunkitty_GRI_CM22', 'sunkitty_GRI_IMT',\n",
       "       'sunkitty_GRI_AP', 'sunkitty_GHI_CM22', 'sunkitty_GHI_IMT',\n",
       "       'sunkitty_GHI_AP', 'sunkitty_albedo_CM22', 'sunkitty_albedo_IMT',\n",
       "       'sunkitty_albedo_AP', 'albedo', 'row2Pmp', 'row4Pmp', 'row9Pmp', 'Yf2',\n",
       "       'Yf4', 'Yf8', 'Yf9', 'PR2', 'PR4', 'PR8', 'PR9', 'SRRL_albedo',\n",
       "       'SRRL_windspeed', 'SRRL_DHI', 'SRRL_DNI', 'SRRL_GHI',\n",
       "       'SRRL_temperature_ambient'],\n",
       "      dtype='object')"
      ]
     },
     "execution_count": 9,
     "metadata": {},
     "output_type": "execute_result"
    }
   ],
   "source": [
    "data2.keys()"
   ]
  },
  {
   "cell_type": "code",
   "execution_count": 25,
   "id": "e08e29bd",
   "metadata": {},
   "outputs": [
    {
     "name": "stdout",
     "output_type": "stream",
     "text": [
      "Index(['Gfront_poa', 'Grear', 'row2wind_speed', 'temp_ambient_FieldAverage',\n",
      "       'row9_inv', 'row9tmod_1', 'row9tmod_2', 'albedo_down', 'albedo_up',\n",
      "       'row7RotatingAlbedometer_CM11_Down', 'row7RotatingAlbedometer_CM11_Up'],\n",
      "      dtype='object')\n"
     ]
    }
   ],
   "source": [
    "# save data4 field das data row 9 as .csv for consumption by pvcaptest\n",
    "#data4['Hydra_avg'] = np.average(data4[['Hydra_current_1','Hydra_current_2','Hydra_current_3','Hydra_current_4','Hydra_current_5',\n",
    "#                                      'Hydra_current_6','Hydra_current_7','Hydra_current_8','Hydra_current_9','Hydra_current_10',\n",
    "#                                      'Hydra_current_11','Hydra_current_12']])\n",
    "data4_out = data4[['Gfront','Grear', 'row2wind_speed','temp_ambient_FieldAverage',\n",
    "              'row9dcp', 'row9tmod_1', 'row9tmod_2', 'sunkitty_GRI_CM22', 'SRRL_GHI', 'row7RotatingAlbedometer_CM11_Down',\n",
    "              'row7RotatingAlbedometer_CM11_Up']]\n",
    "data4_out = data4_out.rename(columns={'Gfront':'Gfront_poa','row9dcp':'row9_inv', \n",
    "                          'sunkitty_GRI_CM22':'albedo_down', 'SRRL_GHI':'albedo_up'})\n",
    "print(data4_out.columns)\n",
    "data4_out.to_csv(os.path.join('Analysis','data','Row9_2021-2022_15T.csv'))"
   ]
  },
  {
   "cell_type": "code",
   "execution_count": 66,
   "id": "91db6b25",
   "metadata": {},
   "outputs": [],
   "source": [
    "# 00a - Baseline\n",
    "saveSAM_WeatherFile(timestamps = data2.index, windspeed = data2.row7wind_speed, temp_amb = data2.temp_ambient_FieldAverage, \n",
    "                    Albedo = data2.sunkitty_GRI_CM22/data2.SRRL_GHI, \n",
    "                    DHI = data2.SRRL_DHI, DNI = data2.SRRL_DNI, GHI = data2.SRRL_GHI,\n",
    "                    savefile = os.path.join(InputFilesFolder,'BEST_SAM_60_Comb_00a.csv'), includeminute = False)"
   ]
  },
  {
   "cell_type": "code",
   "execution_count": 13,
   "id": "1bdb5cc1",
   "metadata": {},
   "outputs": [],
   "source": [
    "# 00b - Baseline sunkitty_albedo_IMT\n",
    "saveSAM_WeatherFile(timestamps = data2.index, windspeed = data2.row7wind_speed, temp_amb = data2.temp_ambient_FieldAverage, \n",
    "                    Albedo = data2.sunkitty_albedo_IMT, \n",
    "                    DHI = data2.SRRL_DHI, DNI = data2.SRRL_DNI, GHI = data2.SRRL_GHI,\n",
    "                    savefile = os.path.join(InputFilesFolder,'BEST_SAM_60_Comb_00b.csv'), includeminute = False)"
   ]
  },
  {
   "cell_type": "code",
   "execution_count": 14,
   "id": "49f55ebb",
   "metadata": {},
   "outputs": [],
   "source": [
    "# 00c - Baseline sunkitty_albedo_AP\n",
    "saveSAM_WeatherFile(timestamps = data2.index, windspeed = data2.row7wind_speed, temp_amb = data2.temp_ambient_FieldAverage, \n",
    "                    Albedo = data2.sunkitty_albedo_AP, \n",
    "                    DHI = data2.SRRL_DHI, DNI = data2.SRRL_DNI, GHI = data2.SRRL_GHI,\n",
    "                    savefile = os.path.join(InputFilesFolder,'BEST_SAM_60_Comb_00c.csv'), includeminute = False)"
   ]
  },
  {
   "cell_type": "code",
   "execution_count": 15,
   "id": "85d9e5a2",
   "metadata": {},
   "outputs": [],
   "source": [
    "# 00d - Baseline SRRL_albedo\n",
    "saveSAM_WeatherFile(timestamps = data2.index, windspeed = data2.row7wind_speed, temp_amb = data2.temp_ambient_FieldAverage, \n",
    "                    Albedo = data2.SRRL_albedo, \n",
    "                    DHI = data2.SRRL_DHI, DNI = data2.SRRL_DNI, GHI = data2.SRRL_GHI,\n",
    "                    savefile = os.path.join(InputFilesFolder,'BEST_SAM_60_Comb_00d.csv'), includeminute = False)"
   ]
  },
  {
   "cell_type": "code",
   "execution_count": 17,
   "id": "3e391022",
   "metadata": {
    "scrolled": true
   },
   "outputs": [
    {
     "ename": "TypeError",
     "evalue": "'float' object is not iterable",
     "output_type": "error",
     "traceback": [
      "\u001b[1;31m---------------------------------------------------------------------------\u001b[0m",
      "\u001b[1;31mTypeError\u001b[0m                                 Traceback (most recent call last)",
      "\u001b[1;32m<ipython-input-17-b974c69959d6>\u001b[0m in \u001b[0;36m<module>\u001b[1;34m\u001b[0m\n\u001b[0;32m      1\u001b[0m \u001b[1;31m# 00e - Baseline Albedo = 0.22\u001b[0m\u001b[1;33m\u001b[0m\u001b[1;33m\u001b[0m\u001b[1;33m\u001b[0m\u001b[0m\n\u001b[1;32m----> 2\u001b[1;33m saveSAM_WeatherFile(timestamps = data2.index, windspeed = data2.row7wind_speed, temp_amb = data2.temp_ambient_FieldAverage, \n\u001b[0m\u001b[0;32m      3\u001b[0m                     \u001b[0mAlbedo\u001b[0m \u001b[1;33m=\u001b[0m \u001b[1;36m0.22\u001b[0m\u001b[1;33m,\u001b[0m\u001b[1;33m\u001b[0m\u001b[1;33m\u001b[0m\u001b[0m\n\u001b[0;32m      4\u001b[0m                     \u001b[0mDHI\u001b[0m \u001b[1;33m=\u001b[0m \u001b[0mdata2\u001b[0m\u001b[1;33m.\u001b[0m\u001b[0mSRRL_DHI\u001b[0m\u001b[1;33m,\u001b[0m \u001b[0mDNI\u001b[0m \u001b[1;33m=\u001b[0m \u001b[0mdata2\u001b[0m\u001b[1;33m.\u001b[0m\u001b[0mSRRL_DNI\u001b[0m\u001b[1;33m,\u001b[0m \u001b[0mGHI\u001b[0m \u001b[1;33m=\u001b[0m \u001b[0mdata2\u001b[0m\u001b[1;33m.\u001b[0m\u001b[0mSRRL_GHI\u001b[0m\u001b[1;33m,\u001b[0m\u001b[1;33m\u001b[0m\u001b[1;33m\u001b[0m\u001b[0m\n\u001b[0;32m      5\u001b[0m                     savefile = os.path.join(InputFilesFolder,'BEST_SAM_60_Comb_00e.csv'), includeminute = False)\n",
      "\u001b[1;32m<ipython-input-6-c914f0225dde>\u001b[0m in \u001b[0;36msaveSAM_WeatherFile\u001b[1;34m(timestamps, windspeed, temp_amb, Albedo, POA, DHI, DNI, GHI, savefile, includeminute)\u001b[0m\n\u001b[0;32m     56\u001b[0m \u001b[1;33m\u001b[0m\u001b[0m\n\u001b[0;32m     57\u001b[0m             \u001b[0mAlbedo\u001b[0m \u001b[1;33m=\u001b[0m \u001b[0mAlbedo\u001b[0m\u001b[1;33m.\u001b[0m\u001b[0mfillna\u001b[0m\u001b[1;33m(\u001b[0m\u001b[1;36m0.99\u001b[0m\u001b[1;33m)\u001b[0m\u001b[1;33m.\u001b[0m\u001b[0mclip\u001b[0m\u001b[1;33m(\u001b[0m\u001b[0mlower\u001b[0m\u001b[1;33m=\u001b[0m\u001b[1;36m0.01\u001b[0m\u001b[1;33m,\u001b[0m\u001b[0mupper\u001b[0m\u001b[1;33m=\u001b[0m\u001b[1;36m0.99\u001b[0m\u001b[1;33m)\u001b[0m\u001b[1;33m\u001b[0m\u001b[1;33m\u001b[0m\u001b[0m\n\u001b[1;32m---> 58\u001b[1;33m         \u001b[0msavedata\u001b[0m\u001b[1;33m[\u001b[0m\u001b[1;34m'Albedo'\u001b[0m\u001b[1;33m]\u001b[0m \u001b[1;33m=\u001b[0m \u001b[0mlist\u001b[0m\u001b[1;33m(\u001b[0m\u001b[0mAlbedo\u001b[0m\u001b[1;33m)\u001b[0m\u001b[1;33m\u001b[0m\u001b[1;33m\u001b[0m\u001b[0m\n\u001b[0m\u001b[0;32m     59\u001b[0m \u001b[1;33m\u001b[0m\u001b[0m\n\u001b[0;32m     60\u001b[0m     \u001b[1;31m# reorder csv\u001b[0m\u001b[1;33m\u001b[0m\u001b[1;33m\u001b[0m\u001b[1;33m\u001b[0m\u001b[0m\n",
      "\u001b[1;31mTypeError\u001b[0m: 'float' object is not iterable"
     ]
    }
   ],
   "source": [
    "# 00e - Baseline Albedo = 0.22\n",
    "saveSAM_WeatherFile(timestamps = data2.index, windspeed = data2.row7wind_speed, temp_amb = data2.temp_ambient_FieldAverage, \n",
    "                    Albedo = 0.22,\n",
    "                    DHI = data2.SRRL_DHI, DNI = data2.SRRL_DNI, GHI = data2.SRRL_GHI,\n",
    "                    savefile = os.path.join(InputFilesFolder,'BEST_SAM_60_Comb_00e.csv'), includeminute = False)"
   ]
  },
  {
   "cell_type": "code",
   "execution_count": 27,
   "id": "72e12293",
   "metadata": {},
   "outputs": [],
   "source": [
    "## FINISH\n",
    "# 00f - Baseline MONTHLY ALBEDOS\n",
    "saveSAM_WeatherFile(timestamps = data2.index, windspeed = data2.row7wind_speed, temp_amb = data2.temp_ambient_FieldAverage, \n",
    "                    Albedo = data2.SRRL_albedo, \n",
    "                    DHI = data2.SRRL_DHI, DNI = data2.SRRL_DNI, GHI = data2.SRRL_GHI,\n",
    "                    savefile = os.path.join(InputFilesFolder,'BEST_SAM_60_Comb_00f.csv'), includeminute = False)"
   ]
  },
  {
   "cell_type": "code",
   "execution_count": 59,
   "id": "5f067538",
   "metadata": {},
   "outputs": [
    {
     "data": {
      "text/plain": [
       "\"\\nfoo2 = data2['SRRL_albedo']\\nfoo2 = foo2.resample('1M').mean()\\nfoo2 = foo2.resample('60T', label='left', closed='left').fillna('ffill')\\nfoo['index'] = pd.to_datetime(data2.index)\\nfoo['SRRL_albedo'] = (data2.groupby(foo['index'].dt.to_period('M'))['SRRL_albedo'].transform('mean'))\\n\""
      ]
     },
     "execution_count": 59,
     "metadata": {},
     "output_type": "execute_result"
    }
   ],
   "source": [
    "\"\"\"\n",
    "foo2 = data2['SRRL_albedo']\n",
    "foo2 = foo2.resample('1M').mean()\n",
    "foo2 = foo2.resample('60T', label='left', closed='left').fillna('ffill')\n",
    "foo['index'] = pd.to_datetime(data2.index)\n",
    "foo['SRRL_albedo'] = (data2.groupby(foo['index'].dt.to_period('M'))['SRRL_albedo'].transform('mean'))\n",
    "\"\"\""
   ]
  },
  {
   "cell_type": "code",
   "execution_count": null,
   "id": "34a28eeb",
   "metadata": {
    "scrolled": true
   },
   "outputs": [],
   "source": []
  },
  {
   "cell_type": "code",
   "execution_count": 29,
   "id": "a2b4eb93",
   "metadata": {},
   "outputs": [],
   "source": [
    "## ??? Interest NSRDB Satellite data ---> \n",
    "# 00g - Baseline SATELLITE ALBEDOS FOR A TYPICAL YEAR? \n",
    "saveSAM_WeatherFile(timestamps = data2.index, windspeed = data2.row7wind_speed, temp_amb = data2.temp_ambient_FieldAverage, \n",
    "                    Albedo = data2.SRRL_albedo, \n",
    "                    DHI = data2.SRRL_DHI, DNI = data2.SRRL_DNI, GHI = data2.SRRL_GHI,\n",
    "                    savefile = os.path.join(InputFilesFolder,'BEST_SAM_60_Comb_00g.csv'), includeminute = False)"
   ]
  },
  {
   "cell_type": "markdown",
   "id": "bc24d076",
   "metadata": {},
   "source": [
    "### 0 POA Front:"
   ]
  },
  {
   "cell_type": "code",
   "execution_count": 30,
   "id": "8a207673",
   "metadata": {},
   "outputs": [],
   "source": [
    "# 01a - POA row5Gfront\n",
    "saveSAM_WeatherFile(timestamps = data2.index, windspeed = data2.row7wind_speed, temp_amb = data2.temp_ambient_FieldAverage, \n",
    "                    Albedo = data2.sunkitty_GRI_CM22, \n",
    "                    POA = data2.row5Gfront,\n",
    "                    savefile = os.path.join(InputFilesFolder,'BEST_SAM_60_Comb_01a.csv'), includeminute = False)"
   ]
  },
  {
   "cell_type": "code",
   "execution_count": 31,
   "id": "c28ad3a9",
   "metadata": {},
   "outputs": [],
   "source": [
    "# 01b - POA row2Gfront\n",
    "saveSAM_WeatherFile(timestamps = data2.index, windspeed = data2.row7wind_speed, temp_amb = data2.temp_ambient_FieldAverage, \n",
    "                    Albedo = data2.sunkitty_GRI_CM22, \n",
    "                    POA = data2.row2Gfront,\n",
    "                    savefile = os.path.join(InputFilesFolder,'BEST_SAM_60_Comb_01b.csv'), includeminute = False)"
   ]
  },
  {
   "cell_type": "code",
   "execution_count": 32,
   "id": "d6585f75",
   "metadata": {},
   "outputs": [],
   "source": [
    "# 01c - POA row3Gfront\n",
    "saveSAM_WeatherFile(timestamps = data2.index, windspeed = data2.row7wind_speed, temp_amb = data2.temp_ambient_FieldAverage, \n",
    "                    Albedo = data2.sunkitty_GRI_CM22, \n",
    "                    POA = data2.row3Gfront,\n",
    "                    savefile = os.path.join(InputFilesFolder,'BEST_SAM_60_Comb_01c.csv'), includeminute = False)"
   ]
  },
  {
   "cell_type": "code",
   "execution_count": 33,
   "id": "fbe93cd5",
   "metadata": {},
   "outputs": [],
   "source": [
    "# 01d - POA row7Gfront\n",
    "saveSAM_WeatherFile(timestamps = data2.index, windspeed = data2.row7wind_speed, temp_amb = data2.temp_ambient_FieldAverage, \n",
    "                    Albedo = data2.sunkitty_GRI_CM22, \n",
    "                    POA = data2.row7Gfront,\n",
    "                    savefile = os.path.join(InputFilesFolder,'BEST_SAM_60_Comb_01d.csv'), includeminute = False)"
   ]
  },
  {
   "cell_type": "code",
   "execution_count": 34,
   "id": "4efa25c0",
   "metadata": {},
   "outputs": [],
   "source": [
    "# 01e - POA row9Gfront\n",
    "saveSAM_WeatherFile(timestamps = data2.index, windspeed = data2.row7wind_speed, temp_amb = data2.temp_ambient_FieldAverage, \n",
    "                    Albedo = data2.sunkitty_GRI_CM22, \n",
    "                    POA = data2.row9Gfront,\n",
    "                    savefile = os.path.join(InputFilesFolder,'BEST_SAM_60_Comb_01e.csv'), includeminute = False)"
   ]
  },
  {
   "cell_type": "code",
   "execution_count": 35,
   "id": "6c57364f",
   "metadata": {},
   "outputs": [],
   "source": [
    "# 01f - POA row3Gfront_CM11\n",
    "saveSAM_WeatherFile(timestamps = data2.index, windspeed = data2.row7wind_speed, temp_amb = data2.temp_ambient_FieldAverage, \n",
    "                    Albedo = data2.sunkitty_GRI_CM22, \n",
    "                    POA = data2.row3Gfront_CM11,\n",
    "                    savefile = os.path.join(InputFilesFolder,'BEST_SAM_60_Comb_01f.csv'), includeminute = False)"
   ]
  },
  {
   "cell_type": "code",
   "execution_count": 36,
   "id": "faa9f9ea",
   "metadata": {},
   "outputs": [],
   "source": [
    "# 01g - POA row3Gfront_Licor\n",
    "saveSAM_WeatherFile(timestamps = data2.index, windspeed = data2.row7wind_speed, temp_amb = data2.temp_ambient_FieldAverage, \n",
    "                    Albedo = data2.sunkitty_GRI_CM22, \n",
    "                    POA = data2.row3Gfront_Licor,\n",
    "                    savefile = os.path.join(InputFilesFolder,'BEST_SAM_60_Comb_01f.csv'), includeminute = False)"
   ]
  },
  {
   "cell_type": "markdown",
   "id": "c7fa106b",
   "metadata": {},
   "source": [
    "### POA Front + Rear"
   ]
  },
  {
   "cell_type": "code",
   "execution_count": 37,
   "id": "941b8c78",
   "metadata": {},
   "outputs": [],
   "source": [
    "# 02a - POA row5Gfront + data2.Grear,\n",
    "saveSAM_WeatherFile(timestamps = data2.index, windspeed = data2.row7wind_speed, temp_amb = data2.temp_ambient_FieldAverage, \n",
    "                    Albedo = data2.sunkitty_GRI_CM22, \n",
    "                    POA = data2.Gfront + data2.Grear,\n",
    "                    savefile = os.path.join(InputFilesFolder,'BEST_SAM_60_Comb_02a.csv'), includeminute = False)"
   ]
  },
  {
   "cell_type": "code",
   "execution_count": 38,
   "id": "48d751a4",
   "metadata": {},
   "outputs": [],
   "source": [
    "# 02b - POA row2Gfront + data2.Grear,\n",
    "saveSAM_WeatherFile(timestamps = data2.index, windspeed = data2.row7wind_speed, temp_amb = data2.temp_ambient_FieldAverage, \n",
    "                    Albedo = data2.sunkitty_GRI_CM22, \n",
    "                    POA = data2.row2Gfront + data2.Grear,\n",
    "                    savefile = os.path.join(InputFilesFolder,'BEST_SAM_60_Comb_02b.csv'), includeminute = False)"
   ]
  },
  {
   "cell_type": "code",
   "execution_count": 39,
   "id": "f8a43bda",
   "metadata": {},
   "outputs": [],
   "source": [
    "# 02c - POA row3Gfront + data2.Grear,\n",
    "saveSAM_WeatherFile(timestamps = data2.index, windspeed = data2.row7wind_speed, temp_amb = data2.temp_ambient_FieldAverage, \n",
    "                    Albedo = data2.sunkitty_GRI_CM22, \n",
    "                    POA = data2.row3Gfront + data2.Grear,\n",
    "                    savefile = os.path.join(InputFilesFolder,'BEST_SAM_60_Comb_02c.csv'), includeminute = False)"
   ]
  },
  {
   "cell_type": "code",
   "execution_count": 40,
   "id": "0f397911",
   "metadata": {},
   "outputs": [],
   "source": [
    "# 02d - POA row7Gfront + data2.Grear,\n",
    "saveSAM_WeatherFile(timestamps = data2.index, windspeed = data2.row7wind_speed, temp_amb = data2.temp_ambient_FieldAverage, \n",
    "                    Albedo = data2.sunkitty_GRI_CM22, \n",
    "                    POA = data2.row7Gfront + data2.Grear,\n",
    "                    savefile = os.path.join(InputFilesFolder,'BEST_SAM_60_Comb_02d.csv'), includeminute = False)"
   ]
  },
  {
   "cell_type": "code",
   "execution_count": 41,
   "id": "bf42deb2",
   "metadata": {},
   "outputs": [],
   "source": [
    "# 02e - POA row9Gfront + data2.Grear,\n",
    "saveSAM_WeatherFile(timestamps = data2.index, windspeed = data2.row7wind_speed, temp_amb = data2.temp_ambient_FieldAverage, \n",
    "                    Albedo = data2.sunkitty_GRI_CM22, \n",
    "                    POA = data2.row9Gfront + data2.Grear,\n",
    "                    savefile = os.path.join(InputFilesFolder,'BEST_SAM_60_Comb_02e.csv'), includeminute = False)"
   ]
  },
  {
   "cell_type": "code",
   "execution_count": 42,
   "id": "7393f149",
   "metadata": {},
   "outputs": [],
   "source": [
    "# 02f - POA row3Gfront_CM11 + data2.row3Grear_CM11,\n",
    "saveSAM_WeatherFile(timestamps = data2.index, windspeed = data2.row7wind_speed, temp_amb = data2.temp_ambient_FieldAverage, \n",
    "                    Albedo = data2.sunkitty_GRI_CM22, \n",
    "                    POA = data2.row3Gfront_CM11 + data2.row3Grear_CM11,\n",
    "                    savefile = os.path.join(InputFilesFolder,'BEST_SAM_60_Comb_02f.csv'), includeminute = False)"
   ]
  },
  {
   "cell_type": "code",
   "execution_count": 43,
   "id": "037fd409",
   "metadata": {},
   "outputs": [],
   "source": [
    "# 02g - POA row3Gfront_Licor + data2.row3Grear_Licor,\n",
    "saveSAM_WeatherFile(timestamps = data2.index, windspeed = data2.row7wind_speed, temp_amb = data2.temp_ambient_FieldAverage, \n",
    "                    Albedo = data2.sunkitty_GRI_CM22, \n",
    "                    POA = data2.row3Gfront_Licor + data2.row3Grear_Licor,\n",
    "                    savefile = os.path.join(InputFilesFolder,'BEST_SAM_60_Comb_02f.csv'), includeminute = False)"
   ]
  },
  {
   "cell_type": "markdown",
   "id": "e0b76c8d",
   "metadata": {},
   "source": [
    "### 3 POA Front + Grear single locations"
   ]
  },
  {
   "cell_type": "code",
   "execution_count": 44,
   "id": "104ad6ca",
   "metadata": {},
   "outputs": [],
   "source": [
    "# 03a - POA Gfront + data2.row3Grear_IMT_West,\n",
    "saveSAM_WeatherFile(timestamps = data2.index, windspeed = data2.row7wind_speed, temp_amb = data2.temp_ambient_FieldAverage, \n",
    "                    Albedo = data2.sunkitty_GRI_CM22, \n",
    "                    POA = data2.Gfront + data2.row3Grear_IMT_West,\n",
    "                    savefile = os.path.join(InputFilesFolder,'BEST_SAM_60_Comb_03a.csv'), includeminute = False)"
   ]
  },
  {
   "cell_type": "code",
   "execution_count": 45,
   "id": "369bfef6",
   "metadata": {},
   "outputs": [],
   "source": [
    "# 03b - POA Gfront + data2.row3Grear_IMT_CenterWest,\n",
    "saveSAM_WeatherFile(timestamps = data2.index, windspeed = data2.row7wind_speed, temp_amb = data2.temp_ambient_FieldAverage, \n",
    "                    Albedo = data2.sunkitty_GRI_CM22, \n",
    "                    POA = data2.Gfront + data2.row3Grear_IMT_CenterWest,\n",
    "                    savefile = os.path.join(InputFilesFolder,'BEST_SAM_60_Comb_03b.csv'), includeminute = False)"
   ]
  },
  {
   "cell_type": "code",
   "execution_count": 46,
   "id": "dcaef345",
   "metadata": {},
   "outputs": [],
   "source": [
    "# 03c - POA Gfront + data2.row3Grear_IMT_CenterEast,\n",
    "saveSAM_WeatherFile(timestamps = data2.index, windspeed = data2.row7wind_speed, temp_amb = data2.temp_ambient_FieldAverage, \n",
    "                    Albedo = data2.sunkitty_GRI_CM22, \n",
    "                    POA = data2.Gfront + data2.row3Grear_IMT_CenterEast,\n",
    "                    savefile = os.path.join(InputFilesFolder,'BEST_SAM_60_Comb_03c.csv'), includeminute = False)"
   ]
  },
  {
   "cell_type": "code",
   "execution_count": 47,
   "id": "e5168ed9",
   "metadata": {},
   "outputs": [],
   "source": [
    "# 03d - POA Gfront + data2.row3Grear_IMT_East,\n",
    "saveSAM_WeatherFile(timestamps = data2.index, windspeed = data2.row7wind_speed, temp_amb = data2.temp_ambient_FieldAverage, \n",
    "                    Albedo = data2.sunkitty_GRI_CM22, \n",
    "                    POA = data2.Gfront + data2.row3Grear_IMT_East,\n",
    "                    savefile = os.path.join(InputFilesFolder,'BEST_SAM_60_Comb_03d.csv'), includeminute = False)"
   ]
  },
  {
   "cell_type": "code",
   "execution_count": 48,
   "id": "7162618a",
   "metadata": {},
   "outputs": [],
   "source": [
    "# 03e - POA Gfront + data2.row5Grear,\n",
    "saveSAM_WeatherFile(timestamps = data2.index, windspeed = data2.row7wind_speed, temp_amb = data2.temp_ambient_FieldAverage, \n",
    "                    Albedo = data2.sunkitty_GRI_CM22, \n",
    "                    POA = data2.Gfront + data2.row5Grear,\n",
    "                    savefile = os.path.join(InputFilesFolder,'BEST_SAM_60_Comb_03e.csv'), includeminute = False)"
   ]
  },
  {
   "cell_type": "code",
   "execution_count": 49,
   "id": "857d1658",
   "metadata": {},
   "outputs": [],
   "source": [
    "# 03f - POA Gfront + data2.row7Grear_IMT_CenterEast,\n",
    "saveSAM_WeatherFile(timestamps = data2.index, windspeed = data2.row7wind_speed, temp_amb = data2.temp_ambient_FieldAverage, \n",
    "                    Albedo = data2.sunkitty_GRI_CM22, \n",
    "                    POA = data2.Gfront + data2.row7Grear_IMT_CenterEast,\n",
    "                    savefile = os.path.join(InputFilesFolder,'BEST_SAM_60_Comb_03f.csv'), includeminute = False)"
   ]
  },
  {
   "cell_type": "code",
   "execution_count": 50,
   "id": "59eab48b",
   "metadata": {},
   "outputs": [],
   "source": [
    "# 03g - POA Gfront + data2.row7Grear_IMT_East,\n",
    "saveSAM_WeatherFile(timestamps = data2.index, windspeed = data2.row7wind_speed, temp_amb = data2.temp_ambient_FieldAverage, \n",
    "                    Albedo = data2.sunkitty_GRI_CM22, \n",
    "                    POA = data2.Gfront + data2.row7Grear_IMT_East,\n",
    "                    savefile = os.path.join(InputFilesFolder,'BEST_SAM_60_Comb_03g.csv'), includeminute = False)"
   ]
  },
  {
   "cell_type": "code",
   "execution_count": 51,
   "id": "71d0668f",
   "metadata": {},
   "outputs": [],
   "source": [
    "# 03h - POA Gfront + data2.row9Grear\n",
    "saveSAM_WeatherFile(timestamps = data2.index, windspeed = data2.row7wind_speed, temp_amb = data2.temp_ambient_FieldAverage, \n",
    "                    Albedo = data2.sunkitty_GRI_CM22, \n",
    "                    POA = data2.Gfront + data2.row9Grear,\n",
    "                    savefile = os.path.join(InputFilesFolder,'BEST_SAM_60_Comb_03h.csv'), includeminute = False)"
   ]
  },
  {
   "cell_type": "markdown",
   "id": "d3a15fc4",
   "metadata": {},
   "source": [
    "## TMY3 FORMAT"
   ]
  },
  {
   "cell_type": "code",
   "execution_count": 52,
   "id": "c40faf15",
   "metadata": {},
   "outputs": [],
   "source": [
    "real_tmy=r'Other\\724010TYA.CSV'\n",
    "real_tmy = pd.read_csv(real_tmy, skiprows = [0])\n",
    "real_tmy = real_tmy.reset_index()\n"
   ]
  },
  {
   "cell_type": "code",
   "execution_count": 53,
   "id": "a865c4a0",
   "metadata": {},
   "outputs": [],
   "source": [
    "data3 = data3[1:]  # removing the first 0 index\n",
    "data3 = data3.reset_index()\n",
    "data3['Date (MM/DD/YYYY)'] = real_tmy['Date (MM/DD/YYYY)']\n",
    "data3['Time (HH:MM)'] = real_tmy['Time (HH:MM)']\n",
    "#data3['Date (MM/DD/YYYY)']=data3['Date (MM/DD/YYYY)'].map(lambda x: str(x)[:-4]+dates.year)+'2021'\n",
    "dates = pd.DatetimeIndex(data3['index'])\n",
    "#data3['year'] = dates.year\n",
    "#data3['year'] = data3['year'].apply(str)\n",
    "#data3['month'] = dates.month\n",
    "#data3['month'] = data3['month'].apply(str)\n",
    "#data3['day'] = dates.day\n",
    "#data3['day'] = data3['day'].apply(str:2)\n",
    "#data3['Date (MM/DD/YYYY)'] = data3['Date (MM/DD/YYYY)'].map(lambda x: str(x)[:-4])+data3.year\n",
    "#data3['Date (MM/DD/YYYY)'] = dates.strftime(\"%m/%d/%Y\")"
   ]
  },
  {
   "cell_type": "code",
   "execution_count": 54,
   "id": "2cc0f04d",
   "metadata": {},
   "outputs": [],
   "source": [
    "data3['Date (MM/DD/YYYY)'] = dates.strftime(\"%m/%d/%Y\")"
   ]
  },
  {
   "cell_type": "code",
   "execution_count": 55,
   "id": "3ec824ec",
   "metadata": {},
   "outputs": [],
   "source": [
    "data3['month'] = dates.month\n",
    "data3['month'] = data3['month'].apply(str)\n",
    "data3['day'] = dates.day\n",
    "data3['day'] = data3['day'].apply(str)"
   ]
  },
  {
   "cell_type": "code",
   "execution_count": 56,
   "id": "53665ccc",
   "metadata": {},
   "outputs": [
    {
     "data": {
      "text/plain": [
       "0       06/01/2021\n",
       "1       06/01/2021\n",
       "2       06/01/2021\n",
       "3       06/01/2021\n",
       "4       06/01/2021\n",
       "           ...    \n",
       "8754    05/31/2022\n",
       "8755    05/31/2022\n",
       "8756    05/31/2022\n",
       "8757    05/31/2022\n",
       "8758    06/01/2022\n",
       "Name: Date (MM/DD/YYYY), Length: 8759, dtype: object"
      ]
     },
     "execution_count": 56,
     "metadata": {},
     "output_type": "execute_result"
    }
   ],
   "source": [
    "data3['Date (MM/DD/YYYY)']"
   ]
  },
  {
   "cell_type": "code",
   "execution_count": 57,
   "id": "71673ba4",
   "metadata": {},
   "outputs": [
    {
     "data": {
      "text/plain": [
       "Index(['06/01/2021', '06/01/2021', '06/01/2021', '06/01/2021', '06/01/2021',\n",
       "       '06/01/2021', '06/01/2021', '06/01/2021', '06/01/2021', '06/01/2021',\n",
       "       ...\n",
       "       '05/31/2022', '05/31/2022', '05/31/2022', '05/31/2022', '05/31/2022',\n",
       "       '05/31/2022', '05/31/2022', '05/31/2022', '05/31/2022', '06/01/2022'],\n",
       "      dtype='object', name='index', length=8759)"
      ]
     },
     "execution_count": 57,
     "metadata": {},
     "output_type": "execute_result"
    }
   ],
   "source": [
    "dates.strftime(\"%m/%d/%Y\")"
   ]
  },
  {
   "cell_type": "code",
   "execution_count": 58,
   "id": "44cb75fc",
   "metadata": {},
   "outputs": [],
   "source": [
    " # 00a - Baseline\n",
    "\n",
    "save_TMY3( datecol=data3['Date (MM/DD/YYYY)'], timecol = data3['Time (HH:MM)'], \n",
    "                    windspeed = data3.row7wind_speed, temp_amb = data3.temp_ambient_FieldAverage, \n",
    "                    Albedo = data3.sunkitty_GRI_CM22, \n",
    "                    DHI = data3.SRRL_DHI, DNI = data3.SRRL_DNI, GHI = data3.SRRL_GHI,\n",
    "                    savefile='TMY3_00a.csv', trackerdata = None)\n"
   ]
  },
  {
   "cell_type": "code",
   "execution_count": null,
   "id": "e0b78441",
   "metadata": {},
   "outputs": [],
   "source": []
  }
 ],
 "metadata": {
  "kernelspec": {
   "display_name": "Python 3 (ipykernel)",
   "language": "python",
   "name": "python3"
  },
  "language_info": {
   "codemirror_mode": {
    "name": "ipython",
    "version": 3
   },
   "file_extension": ".py",
   "mimetype": "text/x-python",
   "name": "python",
   "nbconvert_exporter": "python",
   "pygments_lexer": "ipython3",
   "version": "3.9.13"
  }
 },
 "nbformat": 4,
 "nbformat_minor": 5
}
