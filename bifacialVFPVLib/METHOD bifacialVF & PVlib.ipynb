{
 "cells": [
  {
   "cell_type": "code",
   "execution_count": 1,
   "id": "5c66ac28",
   "metadata": {},
   "outputs": [],
   "source": [
    "import numpy as np\n",
    "import pandas as pd\n",
    "import matplotlib.pyplot as plt\n",
    "from matplotlib import style\n",
    "import pvlib\n",
    "import datetime\n",
    "import pprint\n",
    "import os"
   ]
  },
  {
   "cell_type": "code",
   "execution_count": 2,
   "id": "f033cf91",
   "metadata": {},
   "outputs": [],
   "source": [
    "path_parent = os.path.dirname(os.getcwd())\n",
    "InputFilesFolder = os.path.join(path_parent,'InputFiles')\n",
    "ResultsFolder = r'TEMP'\n",
    "exampleflag = False\n",
    "debugflag = False"
   ]
  },
  {
   "cell_type": "code",
   "execution_count": 3,
   "id": "ec809f5b",
   "metadata": {},
   "outputs": [
    {
     "data": {
      "text/plain": [
       "'0.1.8.1'"
      ]
     },
     "execution_count": 3,
     "metadata": {},
     "output_type": "execute_result"
    }
   ],
   "source": [
    "import bifacialvf\n",
    "\n",
    "# Print bifacialvf Version:\n",
    "bifacialvf.__version__\n"
   ]
  },
  {
   "cell_type": "code",
   "execution_count": 4,
   "id": "c28a61e2",
   "metadata": {},
   "outputs": [],
   "source": [
    "plt.rcParams['timezone'] = 'Etc/GMT+7'\n",
    "font = {'family' : 'DejaVu Sans',\n",
    "'weight' : 'bold',\n",
    "'size'   : 22}\n",
    "plt.rc('font', **font)\n",
    "plt.rcParams['figure.figsize'] = (12, 5)"
   ]
  },
  {
   "cell_type": "code",
   "execution_count": 5,
   "id": "469b89c1",
   "metadata": {},
   "outputs": [],
   "source": [
    "### Set Field parameters"
   ]
  },
  {
   "cell_type": "code",
   "execution_count": 6,
   "id": "b7cb65bd",
   "metadata": {},
   "outputs": [],
   "source": [
    "# Variables\n",
    "tilt = 10                   # PV tilt (deg)\n",
    "sazm = 180                  # PV Azimuth(deg) or tracker axis direction\n",
    "albedo = None               # Calculated in previous section from SRRL data. Value is 0.28 up to 11/18/19o\n",
    "hub_height=1.5/2            #1.5m / 2m collector width\n",
    "pitch = 2/0.35/2              # 1 / 0.35 where 0.35 is gcr --- row to row spacing in normalized panel lengths. \n",
    "rowType = \"interior\"        # RowType(first interior last single)\n",
    "transFactor = 0             # TransmissionFactor(open area fraction)\n",
    "sensorsy = 12                # sensorsy(# hor rows in panel)   <--> THIS ASSUMES LANDSCAPE ORIENTATION \n",
    "PVfrontSurface = \"glass\"    # PVfrontSurface(glass or ARglass)\n",
    "PVbackSurface = \"glass\"     # PVbackSurface(glass or ARglass)\n",
    "\n",
    " # Calculate PV Output Through Various Methods    \n",
    "calculateBilInterpol = False   # Only works with landscape at the moment.\n",
    "calculatePVMismatch = False\n",
    "portraitorlandscape='portrait'   # portrait or landscape\n",
    "cellsnum = 72\n",
    "bififactor = 1.0\n",
    "\n",
    "# Tracking instructions\n",
    "tracking=True\n",
    "backtrack=True\n",
    "limit_angle = 50"
   ]
  },
  {
   "cell_type": "markdown",
   "id": "7d43070f",
   "metadata": {},
   "source": [
    "### Simulate POA with bifacialVf"
   ]
  },
  {
   "cell_type": "code",
   "execution_count": 7,
   "id": "d88bfb1a",
   "metadata": {},
   "outputs": [
    {
     "name": "stdout",
     "output_type": "stream",
     "text": [
      "Calculating Sun position with a delta of -30 mins. i.e. 12 is 11:30 sunpos\n"
     ]
    },
    {
     "name": "stderr",
     "output_type": "stream",
     "text": [
      "  0%|                                                                                | 10/8759 [00:00<01:36, 90.33it/s]"
     ]
    },
    {
     "name": "stdout",
     "output_type": "stream",
     "text": [
      "Using albedo from TMY3 file.\n",
      "Note that at the moment, no validation check is done in the albedo data, so we assume it's correct and valid.\n",
      "\n",
      " \n",
      "********* \n",
      "Running Simulation for TMY3: \n",
      "Location:    DENVER/CENTENNIAL [GOLDEN - NREL]\n",
      "Lat:  39.742  Long:  -105.179  Tz  -7.0\n",
      "Parameters: tilt:  0   Sazm:  180     Hub_Height :  0.75   Pitch:  2.857142857142857   Row type:  interior   Albedo:  None\n",
      "Saving into TEMP\\TMY3_00a.csv\n",
      " \n",
      " \n",
      "Distance between rows for no shading on Dec 21 at 9 am solar time =  0.0\n",
      "Actual distance between rows =  1.8571428571428572\n",
      " \n",
      " ***** IMPORTANT --> THIS SIMULATION Has Tracking Activated\n",
      "Backtracking Option is set to:  True\n"
     ]
    },
    {
     "name": "stderr",
     "output_type": "stream",
     "text": [
      "100%|██████████████████████████████████████████████████████████████████████████████| 8759/8759 [02:05<00:00, 69.97it/s]"
     ]
    },
    {
     "name": "stdout",
     "output_type": "stream",
     "text": [
      "Finished\n"
     ]
    },
    {
     "name": "stderr",
     "output_type": "stream",
     "text": [
      "\n"
     ]
    }
   ],
   "source": [
    "TMYtoread=os.path.join(InputFilesFolder,'TMY3_00a.csv')\n",
    "writefiletitle=os.path.join(ResultsFolder, 'TMY3_00a.csv') \n",
    "myTMY3, meta = bifacialvf.bifacialvf.readInputTMY(TMYtoread)\n",
    "# myTMY3, meta = bifacialvf.bifacialvf.fixintervalTMY(myTMY3,meta)  # Use if data resolution is diff. than hourly\n",
    "\n",
    "bifacialvf.simulate(myTMY3, meta, writefiletitle=writefiletitle, \n",
    "                 tilt=tilt, sazm=sazm, pitch=pitch, hub_height=hub_height, \n",
    "                 rowType=rowType, transFactor=transFactor, sensorsy=sensorsy, \n",
    "                 PVfrontSurface=PVfrontSurface, PVbackSurface=PVbackSurface, \n",
    "                 albedo=albedo, tracking=tracking, backtrack=backtrack, \n",
    "                 limit_angle=limit_angle, calculatePVMismatch=calculatePVMismatch,\n",
    "                 cellsnum = cellsnum, bififactor=bififactor,\n",
    "                 calculateBilInterpol=calculateBilInterpol,\n",
    "                 portraitorlandscape=portraitorlandscape)\n",
    "    "
   ]
  },
  {
   "cell_type": "markdown",
   "id": "8a55aab8",
   "metadata": {},
   "source": [
    "### Load and Caculate performance with PVLIB"
   ]
  },
  {
   "cell_type": "code",
   "execution_count": 8,
   "id": "0c8cd78d",
   "metadata": {},
   "outputs": [],
   "source": [
    "data, meta = bifacialvf.loadVFresults(writefiletitle)"
   ]
  },
  {
   "cell_type": "markdown",
   "id": "3968d628",
   "metadata": {},
   "source": [
    "### Retrieve module data from CEC database"
   ]
  },
  {
   "cell_type": "code",
   "execution_count": 9,
   "id": "7b50334c",
   "metadata": {},
   "outputs": [],
   "source": [
    "db = pvlib.pvsystem.retrieve_sam(name='CECMod').T\n",
    "\n",
    "# MODIFY THIS FOR YOUR TYPE OF MODULE\n",
    "modfilter1 = db.index.str.startswith('SANYO') & db.index.str.endswith('VBHN325SA16')\n",
    "mymod1 = db[modfilter1]\n",
    "\n",
    "# Sanity check, in case the database gets updated and the module name slightly changes and doesn't find it. \n",
    "if len(mymod1) != 1:\n",
    "    print(\"Check filtering\")"
   ]
  },
  {
   "cell_type": "markdown",
   "id": "91ebb57e",
   "metadata": {},
   "source": [
    "### Calculate SAPM Cell Temperature"
   ]
  },
  {
   "cell_type": "code",
   "execution_count": 10,
   "id": "0b4919ca",
   "metadata": {},
   "outputs": [],
   "source": [
    "from pvlib.temperature import TEMPERATURE_MODEL_PARAMETERS\n",
    "tpmBifiGG = ( TEMPERATURE_MODEL_PARAMETERS['sapm']['open_rack_glass_polymer']) # temperature_model_parameters\n",
    "tpmMonoBS = ( TEMPERATURE_MODEL_PARAMETERS['sapm']['open_rack_glass_glass']) # temperature_model_parameters"
   ]
  },
  {
   "cell_type": "markdown",
   "id": "c20cf7d8",
   "metadata": {},
   "source": [
    "Note: need to calcualte POA average and consider bifaciality factor depending on case modeled. Using first value of front POA for this example"
   ]
  },
  {
   "cell_type": "code",
   "execution_count": 11,
   "id": "0df561e8",
   "metadata": {},
   "outputs": [],
   "source": [
    "bifacialityfactor = 0.65\n",
    "data['bifi_celltemp'] = pvlib.temperature.sapm_cell(data.No_1_RowFrontGTI, data.Tamb, data.VWind, tpmBifiGG['a'], tpmBifiGG['b'], tpmBifiGG['deltaT'])\n",
    "data['mono_celltemp'] = pvlib.temperature.sapm_cell(data.No_1_RowFrontGTI, data.Tamb, data.VWind, tpmMonoBS['a'], tpmMonoBS['b'], tpmMonoBS['deltaT'])\n"
   ]
  },
  {
   "cell_type": "markdown",
   "id": "48a47214",
   "metadata": {},
   "source": [
    "### Calculate Performance with PVLib"
   ]
  },
  {
   "cell_type": "code",
   "execution_count": 12,
   "id": "c9a35272",
   "metadata": {},
   "outputs": [],
   "source": [
    "def calculatePerformance(effective_irradiance, temp_cell, CECMod):\n",
    "    r'''\n",
    "    The module parameters are given at the reference condition. \n",
    "    Use pvlib.pvsystem.calcparams_cec() to generate the five SDM \n",
    "    parameters at your desired irradiance and temperature to use \n",
    "    with pvlib.pvsystem.singlediode() to calculate the IV curve information.:\n",
    "    \n",
    "    Inputs\n",
    "    ------\n",
    "    df : dataframe\n",
    "        Dataframe with the 'effective_irradiance' columns and 'temp_cell'\n",
    "        columns.\n",
    "    CECMod : Dict\n",
    "        Dictionary with CEC Module PArameters for the module selected. Must \n",
    "        contain at minimum  alpha_sc, a_ref, I_L_ref, I_o_ref, R_sh_ref,\n",
    "        R_s, Adjust\n",
    "    '''\n",
    "    \n",
    "    IL, I0, Rs, Rsh, nNsVth = pvlib.pvsystem.calcparams_cec(\n",
    "        effective_irradiance=effective_irradiance,\n",
    "        temp_cell=temp_cell,\n",
    "        alpha_sc=float(CECMod.alpha_sc),\n",
    "        a_ref=float(CECMod.a_ref),\n",
    "        I_L_ref=float(CECMod.I_L_ref),\n",
    "        I_o_ref=float(CECMod.I_o_ref),\n",
    "        R_sh_ref=float(CECMod.R_sh_ref),\n",
    "        R_s=float(CECMod.R_s),\n",
    "        Adjust=float(CECMod.Adjust)\n",
    "        )\n",
    "    \n",
    "    IVcurve_info = pvlib.pvsystem.singlediode(\n",
    "        photocurrent=IL,\n",
    "        saturation_current=I0,\n",
    "        resistance_series=Rs,\n",
    "        resistance_shunt=Rsh,\n",
    "        nNsVth=nNsVth \n",
    "        )\n",
    "    \n",
    "    return IVcurve_info['p_mp']\n"
   ]
  },
  {
   "cell_type": "code",
   "execution_count": 13,
   "id": "bff408dd",
   "metadata": {},
   "outputs": [
    {
     "name": "stderr",
     "output_type": "stream",
     "text": [
      "C:\\Users\\cdeline\\Anaconda3\\lib\\site-packages\\pvlib\\singlediode.py:613: RuntimeWarning: overflow encountered in exp\n",
      "  np.exp((Rs[idx_p] * (IL[idx_p] + I0[idx_p]) + V[idx_p]) /\n"
     ]
    }
   ],
   "source": [
    "data['S1_dcP'] = calculatePerformance(data.No_1_RowFrontGTI, data.bifi_celltemp, mymod1)\n",
    "data['S2_dcP'] = calculatePerformance(data.No_1_RowFrontGTI, data.mono_celltemp, mymod1)"
   ]
  },
  {
   "cell_type": "markdown",
   "id": "86d310a0",
   "metadata": {},
   "source": [
    "### Save results"
   ]
  },
  {
   "cell_type": "code",
   "execution_count": null,
   "id": "9d94e3a7",
   "metadata": {},
   "outputs": [],
   "source": []
  }
 ],
 "metadata": {
  "kernelspec": {
   "display_name": "Python 3",
   "language": "python",
   "name": "python3"
  },
  "language_info": {
   "codemirror_mode": {
    "name": "ipython",
    "version": 3
   },
   "file_extension": ".py",
   "mimetype": "text/x-python",
   "name": "python",
   "nbconvert_exporter": "python",
   "pygments_lexer": "ipython3",
   "version": "3.8.8"
  }
 },
 "nbformat": 4,
 "nbformat_minor": 5
}
